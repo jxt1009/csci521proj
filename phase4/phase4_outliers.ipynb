{
 "cells": [
  {
   "cell_type": "markdown",
   "metadata": {},
   "source": [
    "# Phase 4 - Outliers detection and normalization\n",
    "*TEAM 5*"
   ]
  },
  {
   "cell_type": "code",
   "execution_count": 166,
   "metadata": {},
   "outputs": [],
   "source": [
    "import pandas as pd\n",
    "import numpy as np\n",
    "import re\n",
    "\n",
    "import matplotlib.pyplot as plt\n",
    "from scipy.stats import zscore\n"
   ]
  },
  {
   "cell_type": "code",
   "execution_count": 47,
   "metadata": {},
   "outputs": [
    {
     "name": "stderr",
     "output_type": "stream",
     "text": [
      "C:\\ProgramData\\Anaconda3\\lib\\site-packages\\IPython\\core\\interactiveshell.py:3441: DtypeWarning: Columns (17,19) have mixed types.Specify dtype option on import or set low_memory=False.\n",
      "  exec(code_obj, self.user_global_ns, self.user_ns)\n"
     ]
    },
    {
     "name": "stdout",
     "output_type": "stream",
     "text": [
      "movies.shape=(9538110, 23)\n"
     ]
    }
   ],
   "source": [
    "movies = pd.read_csv('../data/us.movies.actors.tsv', sep='\\t', na_values=['\\\\N'])\n",
    "print(f'{movies.shape=}')"
   ]
  },
  {
   "cell_type": "code",
   "execution_count": 48,
   "metadata": {},
   "outputs": [
    {
     "data": {
      "text/html": [
       "<div>\n",
       "<style scoped>\n",
       "    .dataframe tbody tr th:only-of-type {\n",
       "        vertical-align: middle;\n",
       "    }\n",
       "\n",
       "    .dataframe tbody tr th {\n",
       "        vertical-align: top;\n",
       "    }\n",
       "\n",
       "    .dataframe thead th {\n",
       "        text-align: right;\n",
       "    }\n",
       "</style>\n",
       "<table border=\"1\" class=\"dataframe\">\n",
       "  <thead>\n",
       "    <tr style=\"text-align: right;\">\n",
       "      <th></th>\n",
       "      <th>tconst</th>\n",
       "      <th>nconst</th>\n",
       "      <th>primaryName</th>\n",
       "      <th>birthYear</th>\n",
       "      <th>deathYear</th>\n",
       "      <th>primaryProfession</th>\n",
       "      <th>titleType</th>\n",
       "      <th>primaryTitle</th>\n",
       "      <th>originalTitle</th>\n",
       "      <th>isAdult</th>\n",
       "      <th>...</th>\n",
       "      <th>genres</th>\n",
       "      <th>ordering</th>\n",
       "      <th>title</th>\n",
       "      <th>region</th>\n",
       "      <th>language</th>\n",
       "      <th>types</th>\n",
       "      <th>attributes</th>\n",
       "      <th>isOriginalTitle</th>\n",
       "      <th>averageRating</th>\n",
       "      <th>numVotes</th>\n",
       "    </tr>\n",
       "  </thead>\n",
       "  <tbody>\n",
       "    <tr>\n",
       "      <th>0</th>\n",
       "      <td>tt0000574</td>\n",
       "      <td>nm0143899</td>\n",
       "      <td>Godfrey Cass</td>\n",
       "      <td>1866.0</td>\n",
       "      <td>1951.0</td>\n",
       "      <td>actor</td>\n",
       "      <td>movie</td>\n",
       "      <td>The Story of the Kelly Gang</td>\n",
       "      <td>The Story of the Kelly Gang</td>\n",
       "      <td>0</td>\n",
       "      <td>...</td>\n",
       "      <td>Action</td>\n",
       "      <td>6</td>\n",
       "      <td>The Story of the Kelly Gang</td>\n",
       "      <td>US</td>\n",
       "      <td>NaN</td>\n",
       "      <td>imdbDisplay</td>\n",
       "      <td>NaN</td>\n",
       "      <td>0</td>\n",
       "      <td>6.1</td>\n",
       "      <td>735</td>\n",
       "    </tr>\n",
       "    <tr>\n",
       "      <th>1</th>\n",
       "      <td>tt0000574</td>\n",
       "      <td>nm0143899</td>\n",
       "      <td>Godfrey Cass</td>\n",
       "      <td>1866.0</td>\n",
       "      <td>1951.0</td>\n",
       "      <td>actor</td>\n",
       "      <td>movie</td>\n",
       "      <td>The Story of the Kelly Gang</td>\n",
       "      <td>The Story of the Kelly Gang</td>\n",
       "      <td>0</td>\n",
       "      <td>...</td>\n",
       "      <td>Adventure</td>\n",
       "      <td>6</td>\n",
       "      <td>The Story of the Kelly Gang</td>\n",
       "      <td>US</td>\n",
       "      <td>NaN</td>\n",
       "      <td>imdbDisplay</td>\n",
       "      <td>NaN</td>\n",
       "      <td>0</td>\n",
       "      <td>6.1</td>\n",
       "      <td>735</td>\n",
       "    </tr>\n",
       "    <tr>\n",
       "      <th>2</th>\n",
       "      <td>tt0000574</td>\n",
       "      <td>nm0143899</td>\n",
       "      <td>Godfrey Cass</td>\n",
       "      <td>1866.0</td>\n",
       "      <td>1951.0</td>\n",
       "      <td>actor</td>\n",
       "      <td>movie</td>\n",
       "      <td>The Story of the Kelly Gang</td>\n",
       "      <td>The Story of the Kelly Gang</td>\n",
       "      <td>0</td>\n",
       "      <td>...</td>\n",
       "      <td>Biography</td>\n",
       "      <td>6</td>\n",
       "      <td>The Story of the Kelly Gang</td>\n",
       "      <td>US</td>\n",
       "      <td>NaN</td>\n",
       "      <td>imdbDisplay</td>\n",
       "      <td>NaN</td>\n",
       "      <td>0</td>\n",
       "      <td>6.1</td>\n",
       "      <td>735</td>\n",
       "    </tr>\n",
       "    <tr>\n",
       "      <th>3</th>\n",
       "      <td>tt0000574</td>\n",
       "      <td>nm0170118</td>\n",
       "      <td>Bella Cola</td>\n",
       "      <td>NaN</td>\n",
       "      <td>NaN</td>\n",
       "      <td>actress</td>\n",
       "      <td>movie</td>\n",
       "      <td>The Story of the Kelly Gang</td>\n",
       "      <td>The Story of the Kelly Gang</td>\n",
       "      <td>0</td>\n",
       "      <td>...</td>\n",
       "      <td>Action</td>\n",
       "      <td>6</td>\n",
       "      <td>The Story of the Kelly Gang</td>\n",
       "      <td>US</td>\n",
       "      <td>NaN</td>\n",
       "      <td>imdbDisplay</td>\n",
       "      <td>NaN</td>\n",
       "      <td>0</td>\n",
       "      <td>6.1</td>\n",
       "      <td>735</td>\n",
       "    </tr>\n",
       "    <tr>\n",
       "      <th>4</th>\n",
       "      <td>tt0000574</td>\n",
       "      <td>nm0170118</td>\n",
       "      <td>Bella Cola</td>\n",
       "      <td>NaN</td>\n",
       "      <td>NaN</td>\n",
       "      <td>actress</td>\n",
       "      <td>movie</td>\n",
       "      <td>The Story of the Kelly Gang</td>\n",
       "      <td>The Story of the Kelly Gang</td>\n",
       "      <td>0</td>\n",
       "      <td>...</td>\n",
       "      <td>Adventure</td>\n",
       "      <td>6</td>\n",
       "      <td>The Story of the Kelly Gang</td>\n",
       "      <td>US</td>\n",
       "      <td>NaN</td>\n",
       "      <td>imdbDisplay</td>\n",
       "      <td>NaN</td>\n",
       "      <td>0</td>\n",
       "      <td>6.1</td>\n",
       "      <td>735</td>\n",
       "    </tr>\n",
       "  </tbody>\n",
       "</table>\n",
       "<p>5 rows × 23 columns</p>\n",
       "</div>"
      ],
      "text/plain": [
       "      tconst     nconst   primaryName  birthYear  deathYear primaryProfession  \\\n",
       "0  tt0000574  nm0143899  Godfrey Cass     1866.0     1951.0             actor   \n",
       "1  tt0000574  nm0143899  Godfrey Cass     1866.0     1951.0             actor   \n",
       "2  tt0000574  nm0143899  Godfrey Cass     1866.0     1951.0             actor   \n",
       "3  tt0000574  nm0170118    Bella Cola        NaN        NaN           actress   \n",
       "4  tt0000574  nm0170118    Bella Cola        NaN        NaN           actress   \n",
       "\n",
       "  titleType                 primaryTitle                originalTitle  \\\n",
       "0     movie  The Story of the Kelly Gang  The Story of the Kelly Gang   \n",
       "1     movie  The Story of the Kelly Gang  The Story of the Kelly Gang   \n",
       "2     movie  The Story of the Kelly Gang  The Story of the Kelly Gang   \n",
       "3     movie  The Story of the Kelly Gang  The Story of the Kelly Gang   \n",
       "4     movie  The Story of the Kelly Gang  The Story of the Kelly Gang   \n",
       "\n",
       "   isAdult  ...     genres  ordering                        title region  \\\n",
       "0        0  ...     Action         6  The Story of the Kelly Gang     US   \n",
       "1        0  ...  Adventure         6  The Story of the Kelly Gang     US   \n",
       "2        0  ...  Biography         6  The Story of the Kelly Gang     US   \n",
       "3        0  ...     Action         6  The Story of the Kelly Gang     US   \n",
       "4        0  ...  Adventure         6  The Story of the Kelly Gang     US   \n",
       "\n",
       "   language        types attributes isOriginalTitle averageRating numVotes  \n",
       "0       NaN  imdbDisplay        NaN               0           6.1      735  \n",
       "1       NaN  imdbDisplay        NaN               0           6.1      735  \n",
       "2       NaN  imdbDisplay        NaN               0           6.1      735  \n",
       "3       NaN  imdbDisplay        NaN               0           6.1      735  \n",
       "4       NaN  imdbDisplay        NaN               0           6.1      735  \n",
       "\n",
       "[5 rows x 23 columns]"
      ]
     },
     "execution_count": 48,
     "metadata": {},
     "output_type": "execute_result"
    }
   ],
   "source": [
    "movies.head()"
   ]
  },
  {
   "cell_type": "markdown",
   "metadata": {},
   "source": [
    "## Treating attribute missing and invalid values\n",
    "\n",
    "Summary of the work done in the Python cells below:\n",
    "\n",
    "- `tconst`: checking missing values and invalid format of the id, there isn't any of those. However, the attribute has almost only distinct values and should be deleted if during the data mining application.\n",
    "- `nconst`: checking missing values and invalid format of the id, there isn't any of those. However, as for the previous attribute nconst has a lot of distinct values. It should be removed when data mining is applied.\n",
    "- `primaryName`: checking missing values, there isn't any. As for the previous two, a lot a distinct values.\n",
    "- `birthYear`: the missing value rate is above 73% which makes this attribute useless for the learning. \n",
    "- `deathYear`: as previously, the missing value rate is high (above 90%). It is understandable as all the actors aren't dead but it still makes this attribute hard to use and he may be irrelevant for the learning algorithm to keep this information.  \n",
    "- `primaryProfession`: no missing or invalid values in this attribute.\n",
    "- `titleType`: there aren't any invalid or missing entries for this attribute. There is a strong class imbalance which may lead to the suppression of this attribute but the information given may worth to keep it for now.\n",
    "- `primaryTitle`: no invalid or missing values but lot of distinct values and 81% of similarity with originalTitle.\n",
    "- `originalTitle`: no invalid or missing values but lot of distinct values and 81% of similarity with primaryTitle.\n",
    "- `isAdult`: no invalid or missing entries but a strong class imbalance. However, the given information may be considered by the miner depending on his study.\n",
    "- `startYear`: No invalid attributes as the range is coherent (1906-2021). 7 movies with missing startYear. They can be deleted regarding the size of the dataset if the purpose is to apply data mining methods. \n",
    "- `endYear`: all the values are missing for this attribute. It must be deleted as it doesn't bring any information.\n",
    "- `runtimeMinutes`: there are some missing values and the value-range is too wide. As this variable may be very important for the analysis, it would be interesting to substitute its missing or invalid values. We identify outliers by computing the z-score. The entries with a too high z-score are omitted (z>10). Using z-score assumes normal distribution of the variable. We can validate this hypothesis afterward with the ditribution plot. These omitted values represent less than 2% of the entries which isn't a big ratio. We replace these values with the median as this replacement method is less sensitive to the distribution and the remaining extreme values.\n",
    "- `genres`: there are 2094 movies with missing genres. It represents less than 0.2% of the dataset. There isn't any simple way of giving a genre so we would prefer to remove these values. All the other entries are valid.\n",
    "- `ordering`: by looking at the distribution not any sample seems to be an outlier. There aren't any missing entries for this attribute.\n",
    "- `title`: no invalid or missing values but lot of distinct values. This attribute has a lot of similarity with primaryTitle and originalTitle. \n",
    "- `region`: only one distinct value and there isn't any missing entries. This entry don't bring any information. \n",
    "- `language`: with more than 98% of missing entries, this attribute can't be used.\n",
    "- `types`: there are around 16% or entries missing for this attribute. There is a strong class imbalance in this attribute so it may be possible to replace by the mode. As it adds bias to the dataset, it can be unappropriate to replace these values, we assume that the purpose of the further study won't be mainly focused on the types attribute. \n",
    "- `attributes`: with more than 88% percent of missing values, no information can be extracted for data mining purpose. \n",
    "- `averageRating`: values of the attribute are in the right range [0-10]. With no missing values.\n",
    "- `numVotes`: the range of the attribute seems correct (only positive values and the one with the most votes are popular). No missing values."
   ]
  },
  {
   "cell_type": "markdown",
   "metadata": {},
   "source": [
    "### `tconst`"
   ]
  },
  {
   "cell_type": "code",
   "execution_count": 49,
   "metadata": {},
   "outputs": [
    {
     "name": "stdout",
     "output_type": "stream",
     "text": [
      "movies.tconst.nunique()=145030\n",
      "movies.tconst.isna().sum()=0\n"
     ]
    }
   ],
   "source": [
    "print(f'{movies.tconst.nunique()=}')\n",
    "print(f'{movies.tconst.isna().sum()=}')"
   ]
  },
  {
   "cell_type": "code",
   "execution_count": 50,
   "metadata": {},
   "outputs": [
    {
     "data": {
      "text/plain": [
       "9538110"
      ]
     },
     "execution_count": 50,
     "metadata": {},
     "output_type": "execute_result"
    }
   ],
   "source": [
    "is_tconst_format = lambda x: bool(re.match('tt[0-9]+', x))\n",
    "movies.tconst.map(is_tconst_format).sum()"
   ]
  },
  {
   "cell_type": "markdown",
   "metadata": {},
   "source": [
    "No missing and/or invalid values, lot of distinct values."
   ]
  },
  {
   "cell_type": "markdown",
   "metadata": {},
   "source": [
    "### `nconst`"
   ]
  },
  {
   "cell_type": "code",
   "execution_count": 51,
   "metadata": {},
   "outputs": [
    {
     "name": "stdout",
     "output_type": "stream",
     "text": [
      "movies.nconst.nunique()=1337964\n",
      "movies.nconst.isna().sum()=0\n"
     ]
    }
   ],
   "source": [
    "print(f'{movies.nconst.nunique()=}')\n",
    "print(f'{movies.nconst.isna().sum()=}')"
   ]
  },
  {
   "cell_type": "code",
   "execution_count": 52,
   "metadata": {},
   "outputs": [
    {
     "data": {
      "text/plain": [
       "9538110"
      ]
     },
     "execution_count": 52,
     "metadata": {},
     "output_type": "execute_result"
    }
   ],
   "source": [
    "is_nconst_format = lambda x: bool(re.match('nm[0-9]+', x))\n",
    "movies.nconst.map(is_nconst_format).sum()"
   ]
  },
  {
   "cell_type": "markdown",
   "metadata": {},
   "source": [
    "No missing and/or invalid values, lot of distinct values."
   ]
  },
  {
   "cell_type": "markdown",
   "metadata": {},
   "source": [
    "### `primaryName`"
   ]
  },
  {
   "cell_type": "code",
   "execution_count": 53,
   "metadata": {},
   "outputs": [
    {
     "name": "stdout",
     "output_type": "stream",
     "text": [
      "0\n"
     ]
    }
   ],
   "source": [
    "print(movies.primaryName.isna().sum())"
   ]
  },
  {
   "cell_type": "code",
   "execution_count": 54,
   "metadata": {},
   "outputs": [
    {
     "name": "stdout",
     "output_type": "stream",
     "text": [
      "movies.primaryName.nunique()=1244663\n"
     ]
    }
   ],
   "source": [
    "print(f'{movies.primaryName.nunique()=}')"
   ]
  },
  {
   "cell_type": "markdown",
   "metadata": {},
   "source": [
    "No missing values, lot of distinct values."
   ]
  },
  {
   "cell_type": "markdown",
   "metadata": {},
   "source": [
    "### `Birth year`"
   ]
  },
  {
   "cell_type": "code",
   "execution_count": 64,
   "metadata": {},
   "outputs": [
    {
     "data": {
      "text/plain": [
       "0.73264304982853"
      ]
     },
     "execution_count": 64,
     "metadata": {},
     "output_type": "execute_result"
    }
   ],
   "source": [
    "movies.birthYear.isna().mean()"
   ]
  },
  {
   "cell_type": "markdown",
   "metadata": {},
   "source": [
    "The missing value rate is above 73% which may make this attribute useless for the learning. "
   ]
  },
  {
   "cell_type": "markdown",
   "metadata": {},
   "source": [
    "### `deathYear`"
   ]
  },
  {
   "cell_type": "code",
   "execution_count": 65,
   "metadata": {},
   "outputs": [
    {
     "data": {
      "text/plain": [
       "0.91349932009591"
      ]
     },
     "execution_count": 65,
     "metadata": {},
     "output_type": "execute_result"
    }
   ],
   "source": [
    "movies.deathYear.isna().mean()"
   ]
  },
  {
   "cell_type": "markdown",
   "metadata": {},
   "source": [
    "The missing value rate is above 90%. It is understandable as all the actors aren't dead but it still makes this attribute hard to use and he may be irrelevant for the learning algorithm to keep this information."
   ]
  },
  {
   "cell_type": "markdown",
   "metadata": {},
   "source": [
    "### `primaryProfession`"
   ]
  },
  {
   "cell_type": "code",
   "execution_count": 71,
   "metadata": {},
   "outputs": [
    {
     "data": {
      "text/plain": [
       "0"
      ]
     },
     "execution_count": 71,
     "metadata": {},
     "output_type": "execute_result"
    }
   ],
   "source": [
    "movies.primaryProfession.isna().sum()"
   ]
  },
  {
   "cell_type": "code",
   "execution_count": 72,
   "metadata": {},
   "outputs": [
    {
     "data": {
      "text/plain": [
       "array(['actor', 'actress', 'assistant_director', 'cinematographer',\n",
       "       'producer', 'director', 'writer', 'production_designer', 'editor',\n",
       "       'editorial_department', 'make_up_department', 'soundtrack',\n",
       "       'location_management', 'miscellaneous', 'sound_department',\n",
       "       'visual_effects', 'production_manager', 'animation_department',\n",
       "       'stunts', 'art_department', 'camera_department',\n",
       "       'costume_department', 'casting_director', 'script_department',\n",
       "       'special_effects', 'composer', 'music_department', 'set_decorator',\n",
       "       'costume_designer', 'art_director', 'talent_agent',\n",
       "       'casting_department', 'transportation_department', 'executive',\n",
       "       'manager', 'publicist', 'legal', 'assistant',\n",
       "       'production_department'], dtype=object)"
      ]
     },
     "execution_count": 72,
     "metadata": {},
     "output_type": "execute_result"
    }
   ],
   "source": [
    "movies.primaryProfession.unique()"
   ]
  },
  {
   "cell_type": "markdown",
   "metadata": {},
   "source": [
    "No missing or invalid value in this attribute."
   ]
  },
  {
   "cell_type": "markdown",
   "metadata": {},
   "source": [
    "### `titleType`"
   ]
  },
  {
   "cell_type": "code",
   "execution_count": 75,
   "metadata": {},
   "outputs": [
    {
     "data": {
      "text/plain": [
       "0"
      ]
     },
     "execution_count": 75,
     "metadata": {},
     "output_type": "execute_result"
    }
   ],
   "source": [
    "movies.titleType.isna().sum()"
   ]
  },
  {
   "cell_type": "code",
   "execution_count": 74,
   "metadata": {},
   "outputs": [
    {
     "data": {
      "text/plain": [
       "movie      9298538\n",
       "tvMovie     239572\n",
       "Name: titleType, dtype: int64"
      ]
     },
     "execution_count": 74,
     "metadata": {},
     "output_type": "execute_result"
    }
   ],
   "source": [
    "movies.titleType.value_counts()"
   ]
  },
  {
   "cell_type": "markdown",
   "metadata": {},
   "source": [
    "There aren't any invalid or missing entries for this attribute. There is a strong class imbalance which may lead to the suppression of this attribute but the information given may worth to keep it for now."
   ]
  },
  {
   "cell_type": "markdown",
   "metadata": {},
   "source": [
    "### `primaryTitle` / `originalTitle`"
   ]
  },
  {
   "cell_type": "code",
   "execution_count": 82,
   "metadata": {},
   "outputs": [
    {
     "name": "stdout",
     "output_type": "stream",
     "text": [
      "movies.primaryTitle.isna().sum()=0\n",
      "movies.primaryTitle.nunique()=127317\n"
     ]
    }
   ],
   "source": [
    "print(f'{movies.primaryTitle.isna().sum()=}')\n",
    "print(f'{movies.primaryTitle.nunique()=}')"
   ]
  },
  {
   "cell_type": "code",
   "execution_count": 83,
   "metadata": {},
   "outputs": [
    {
     "name": "stdout",
     "output_type": "stream",
     "text": [
      "movies.originalTitle.isna().sum()=0\n",
      "movies.originalTitle.nunique()=132530\n"
     ]
    }
   ],
   "source": [
    "print(f'{movies.originalTitle.isna().sum()=}')\n",
    "print(f'{movies.originalTitle.nunique()=}')"
   ]
  },
  {
   "cell_type": "markdown",
   "metadata": {},
   "source": [
    "Very similar attributes with no missing values and almost the same number of unique values. We compare the two element-wise with the main title variable."
   ]
  },
  {
   "cell_type": "markdown",
   "metadata": {},
   "source": [
    "### `title`"
   ]
  },
  {
   "cell_type": "code",
   "execution_count": 100,
   "metadata": {},
   "outputs": [
    {
     "name": "stdout",
     "output_type": "stream",
     "text": [
      "movies.title.isna().sum()=0\n",
      "movies.title.nunique()=151568\n"
     ]
    }
   ],
   "source": [
    "print(f'{movies.title.isna().sum()=}')\n",
    "print(f'{movies.title.nunique()=}')"
   ]
  },
  {
   "cell_type": "code",
   "execution_count": 103,
   "metadata": {},
   "outputs": [
    {
     "data": {
      "text/plain": [
       "0.7136428495792143"
      ]
     },
     "execution_count": 103,
     "metadata": {},
     "output_type": "execute_result"
    }
   ],
   "source": [
    "movies.primaryTitle.eq(movies.title).sum()/movies.shape[0]"
   ]
  },
  {
   "cell_type": "code",
   "execution_count": 102,
   "metadata": {},
   "outputs": [
    {
     "data": {
      "text/plain": [
       "0.5704684680717669"
      ]
     },
     "execution_count": 102,
     "metadata": {},
     "output_type": "execute_result"
    }
   ],
   "source": [
    "movies.originalTitle.eq(movies.title).sum()/movies.shape[0]"
   ]
  },
  {
   "cell_type": "markdown",
   "metadata": {},
   "source": [
    "71% and 57% of similarity between the variables is a lot of correlation. These variables convey the same information. Only one should be kept. As title has more unique entries (with no missing values), we'll keep this one. Note: isOriginalTitle is linked with originalTitle. "
   ]
  },
  {
   "cell_type": "markdown",
   "metadata": {},
   "source": [
    "### `isAdult`"
   ]
  },
  {
   "cell_type": "code",
   "execution_count": 92,
   "metadata": {},
   "outputs": [
    {
     "data": {
      "text/plain": [
       "0"
      ]
     },
     "execution_count": 92,
     "metadata": {},
     "output_type": "execute_result"
    }
   ],
   "source": [
    "movies.isAdult.isna().sum()"
   ]
  },
  {
   "cell_type": "code",
   "execution_count": 94,
   "metadata": {},
   "outputs": [
    {
     "data": {
      "text/plain": [
       "0    9475839\n",
       "1      62271\n",
       "Name: isAdult, dtype: int64"
      ]
     },
     "execution_count": 94,
     "metadata": {},
     "output_type": "execute_result"
    }
   ],
   "source": [
    "movies.isAdult.value_counts()"
   ]
  },
  {
   "cell_type": "markdown",
   "metadata": {},
   "source": [
    "No invalid or missing entries but a strong class imbalance. However, the given information may be considered by the miner depending on his study."
   ]
  },
  {
   "cell_type": "markdown",
   "metadata": {},
   "source": [
    "### `startYear`"
   ]
  },
  {
   "cell_type": "code",
   "execution_count": 108,
   "metadata": {},
   "outputs": [
    {
     "data": {
      "text/html": [
       "<div>\n",
       "<style scoped>\n",
       "    .dataframe tbody tr th:only-of-type {\n",
       "        vertical-align: middle;\n",
       "    }\n",
       "\n",
       "    .dataframe tbody tr th {\n",
       "        vertical-align: top;\n",
       "    }\n",
       "\n",
       "    .dataframe thead th {\n",
       "        text-align: right;\n",
       "    }\n",
       "</style>\n",
       "<table border=\"1\" class=\"dataframe\">\n",
       "  <thead>\n",
       "    <tr style=\"text-align: right;\">\n",
       "      <th></th>\n",
       "      <th>title</th>\n",
       "      <th>startYear</th>\n",
       "    </tr>\n",
       "  </thead>\n",
       "  <tbody>\n",
       "    <tr>\n",
       "      <th>831897</th>\n",
       "      <td>The Money (1976)</td>\n",
       "      <td>NaN</td>\n",
       "    </tr>\n",
       "    <tr>\n",
       "      <th>831898</th>\n",
       "      <td>Atlantic City Jackpot</td>\n",
       "      <td>NaN</td>\n",
       "    </tr>\n",
       "    <tr>\n",
       "      <th>5165834</th>\n",
       "      <td>Samhain</td>\n",
       "      <td>NaN</td>\n",
       "    </tr>\n",
       "    <tr>\n",
       "      <th>7251396</th>\n",
       "      <td>As Words Breathe</td>\n",
       "      <td>NaN</td>\n",
       "    </tr>\n",
       "    <tr>\n",
       "      <th>7499389</th>\n",
       "      <td>Untitled Chris Black Project</td>\n",
       "      <td>NaN</td>\n",
       "    </tr>\n",
       "    <tr>\n",
       "      <th>7499390</th>\n",
       "      <td>Reckless</td>\n",
       "      <td>NaN</td>\n",
       "    </tr>\n",
       "    <tr>\n",
       "      <th>9031293</th>\n",
       "      <td>Cool as Hell 2</td>\n",
       "      <td>NaN</td>\n",
       "    </tr>\n",
       "    <tr>\n",
       "      <th>9488509</th>\n",
       "      <td>Patriot Acts</td>\n",
       "      <td>NaN</td>\n",
       "    </tr>\n",
       "  </tbody>\n",
       "</table>\n",
       "</div>"
      ],
      "text/plain": [
       "                                title  startYear\n",
       "831897               The Money (1976)        NaN\n",
       "831898          Atlantic City Jackpot        NaN\n",
       "5165834                       Samhain        NaN\n",
       "7251396              As Words Breathe        NaN\n",
       "7499389  Untitled Chris Black Project        NaN\n",
       "7499390                      Reckless        NaN\n",
       "9031293                Cool as Hell 2        NaN\n",
       "9488509                  Patriot Acts        NaN"
      ]
     },
     "execution_count": 108,
     "metadata": {},
     "output_type": "execute_result"
    }
   ],
   "source": [
    "movies.loc[movies.startYear.isna(), :][['title', 'startYear']].drop_duplicates()"
   ]
  },
  {
   "cell_type": "code",
   "execution_count": 114,
   "metadata": {},
   "outputs": [
    {
     "data": {
      "text/plain": [
       "count    9.537910e+06\n",
       "mean     2.001256e+03\n",
       "std      1.933354e+01\n",
       "min      1.906000e+03\n",
       "25%      1.995000e+03\n",
       "50%      2.008000e+03\n",
       "75%      2.015000e+03\n",
       "max      2.021000e+03\n",
       "Name: startYear, dtype: float64"
      ]
     },
     "execution_count": 114,
     "metadata": {},
     "output_type": "execute_result"
    }
   ],
   "source": [
    "movies.startYear.describe()"
   ]
  },
  {
   "cell_type": "code",
   "execution_count": 113,
   "metadata": {},
   "outputs": [
    {
     "name": "stdout",
     "output_type": "stream",
     "text": [
      "movies.startYear.min()=1906.0\n",
      "movies.startYear.max()=2021.0\n"
     ]
    }
   ],
   "source": [
    "print(f'{movies.startYear.min()=}')\n",
    "print(f'{movies.startYear.max()=}')"
   ]
  },
  {
   "cell_type": "markdown",
   "metadata": {},
   "source": [
    "No invalid attributes as the range is correct. 7 movies have empty startYear values, this small amount can be deleted, for the movie The Money (1976) we can fill the value."
   ]
  },
  {
   "cell_type": "markdown",
   "metadata": {},
   "source": [
    "### `endYear`"
   ]
  },
  {
   "cell_type": "code",
   "execution_count": 98,
   "metadata": {},
   "outputs": [
    {
     "data": {
      "text/plain": [
       "1.0"
      ]
     },
     "execution_count": 98,
     "metadata": {},
     "output_type": "execute_result"
    }
   ],
   "source": [
    "movies.endYear.isna().sum()/movies.shape[0]"
   ]
  },
  {
   "cell_type": "markdown",
   "metadata": {},
   "source": [
    "All the values are missing for this attribute. It must be deleted as it doesn't bring any information."
   ]
  },
  {
   "cell_type": "markdown",
   "metadata": {},
   "source": [
    "### `runtimeMinutes`"
   ]
  },
  {
   "cell_type": "code",
   "execution_count": 146,
   "metadata": {},
   "outputs": [
    {
     "name": "stdout",
     "output_type": "stream",
     "text": [
      "movies.runtimeMinutes.isna().sum()=181049\n",
      "movies.runtimeMinutes.min()=6.0\n",
      "movies.runtimeMinutes.max()=5220.0\n"
     ]
    }
   ],
   "source": [
    "print(f'{movies.runtimeMinutes.isna().sum()=}')\n",
    "\n",
    "print(f'{movies.runtimeMinutes.min()=}')\n",
    "print(f'{movies.runtimeMinutes.max()=}')"
   ]
  },
  {
   "cell_type": "markdown",
   "metadata": {},
   "source": [
    "The are some missing values and the range is too wide. As this variable is very important it would be interesting to substitute its missing or invalid values."
   ]
  },
  {
   "cell_type": "code",
   "execution_count": 170,
   "metadata": {},
   "outputs": [],
   "source": [
    "scores = np.abs(zscore(movies.runtimeMinutes, nan_policy='omit'))"
   ]
  },
  {
   "cell_type": "code",
   "execution_count": 178,
   "metadata": {},
   "outputs": [
    {
     "data": {
      "text/plain": [
       "0.9807731301064886"
      ]
     },
     "execution_count": 178,
     "metadata": {},
     "output_type": "execute_result"
    }
   ],
   "source": [
    "(scores<10).mean()"
   ]
  },
  {
   "cell_type": "code",
   "execution_count": 177,
   "metadata": {},
   "outputs": [
    {
     "data": {
      "image/png": "[encoded data removed]",
      "text/plain": [
       "<Figure size 640x480 with 1 Axes>"
      ]
     },
     "metadata": {},
     "output_type": "display_data"
    }
   ],
   "source": [
    "plt.hist(movies.runtimeMinutes[scores<10], bins=50)\n",
    "plt.show()"
   ]
  },
  {
   "cell_type": "markdown",
   "metadata": {},
   "source": [
    "We identify outliers by computing the z-score. The entries with a too high z-score are omitted (z>10). Using z-score assumes normal distribution of the variable. We can validate this hypothesis afterward with the ditribution plot. These omitted values represent less than 2% of the entries which isn't a big ratio. We replace these values with the median as this replacement method is less sensitive to the distribution and the remaining extreme values."
   ]
  },
  {
   "cell_type": "markdown",
   "metadata": {},
   "source": [
    "### `genres`"
   ]
  },
  {
   "cell_type": "code",
   "execution_count": 154,
   "metadata": {},
   "outputs": [
    {
     "data": {
      "text/plain": [
       "0.0017669118934463956"
      ]
     },
     "execution_count": 154,
     "metadata": {},
     "output_type": "execute_result"
    }
   ],
   "source": [
    "movies.genres.isna().sum()/movies.shape[0]"
   ]
  },
  {
   "cell_type": "code",
   "execution_count": 155,
   "metadata": {},
   "outputs": [
    {
     "data": {
      "text/html": [
       "<div>\n",
       "<style scoped>\n",
       "    .dataframe tbody tr th:only-of-type {\n",
       "        vertical-align: middle;\n",
       "    }\n",
       "\n",
       "    .dataframe tbody tr th {\n",
       "        vertical-align: top;\n",
       "    }\n",
       "\n",
       "    .dataframe thead th {\n",
       "        text-align: right;\n",
       "    }\n",
       "</style>\n",
       "<table border=\"1\" class=\"dataframe\">\n",
       "  <thead>\n",
       "    <tr style=\"text-align: right;\">\n",
       "      <th></th>\n",
       "      <th>title</th>\n",
       "      <th>genres</th>\n",
       "    </tr>\n",
       "  </thead>\n",
       "  <tbody>\n",
       "    <tr>\n",
       "      <th>169</th>\n",
       "      <td>The Infant at Snakeville</td>\n",
       "      <td>NaN</td>\n",
       "    </tr>\n",
       "    <tr>\n",
       "      <th>294</th>\n",
       "      <td>As You Like It</td>\n",
       "      <td>NaN</td>\n",
       "    </tr>\n",
       "    <tr>\n",
       "      <th>1328</th>\n",
       "      <td>A Venetian Night</td>\n",
       "      <td>NaN</td>\n",
       "    </tr>\n",
       "    <tr>\n",
       "      <th>1331</th>\n",
       "      <td>When the Earth Trembled</td>\n",
       "      <td>NaN</td>\n",
       "    </tr>\n",
       "    <tr>\n",
       "      <th>1332</th>\n",
       "      <td>When the Earth Trembled or the Power of Love</td>\n",
       "      <td>NaN</td>\n",
       "    </tr>\n",
       "    <tr>\n",
       "      <th>...</th>\n",
       "      <td>...</td>\n",
       "      <td>...</td>\n",
       "    </tr>\n",
       "    <tr>\n",
       "      <th>9505566</th>\n",
       "      <td>Music Hole</td>\n",
       "      <td>NaN</td>\n",
       "    </tr>\n",
       "    <tr>\n",
       "      <th>9513172</th>\n",
       "      <td>Zombie Universe 2</td>\n",
       "      <td>NaN</td>\n",
       "    </tr>\n",
       "    <tr>\n",
       "      <th>9516401</th>\n",
       "      <td>Little Wound's Warriors</td>\n",
       "      <td>NaN</td>\n",
       "    </tr>\n",
       "    <tr>\n",
       "      <th>9517284</th>\n",
       "      <td>Full Gas</td>\n",
       "      <td>NaN</td>\n",
       "    </tr>\n",
       "    <tr>\n",
       "      <th>9518792</th>\n",
       "      <td>The Cat in Their Arms</td>\n",
       "      <td>NaN</td>\n",
       "    </tr>\n",
       "  </tbody>\n",
       "</table>\n",
       "<p>2094 rows × 2 columns</p>\n",
       "</div>"
      ],
      "text/plain": [
       "                                                title genres\n",
       "169                          The Infant at Snakeville    NaN\n",
       "294                                    As You Like It    NaN\n",
       "1328                                 A Venetian Night    NaN\n",
       "1331                          When the Earth Trembled    NaN\n",
       "1332     When the Earth Trembled or the Power of Love    NaN\n",
       "...                                               ...    ...\n",
       "9505566                                    Music Hole    NaN\n",
       "9513172                             Zombie Universe 2    NaN\n",
       "9516401                       Little Wound's Warriors    NaN\n",
       "9517284                                      Full Gas    NaN\n",
       "9518792                         The Cat in Their Arms    NaN\n",
       "\n",
       "[2094 rows x 2 columns]"
      ]
     },
     "execution_count": 155,
     "metadata": {},
     "output_type": "execute_result"
    }
   ],
   "source": [
    "movies.loc[movies.genres.isna(), ['title', 'genres']].drop_duplicates()"
   ]
  },
  {
   "cell_type": "code",
   "execution_count": 161,
   "metadata": {},
   "outputs": [
    {
     "data": {
      "text/plain": [
       "Drama        2010563\n",
       "Comedy       1344235\n",
       "Action       1144121\n",
       "Adventure     719117\n",
       "Thriller      631590\n",
       "Crime         589239\n",
       "Romance       557348\n",
       "Horror        528769\n",
       "Sci-Fi        398194\n",
       "Mystery       274014\n",
       "Name: genres, dtype: int64"
      ]
     },
     "execution_count": 161,
     "metadata": {},
     "output_type": "execute_result"
    }
   ],
   "source": [
    "movies.genres.value_counts().head(10)"
   ]
  },
  {
   "cell_type": "markdown",
   "metadata": {},
   "source": [
    "There are 2094 movies with missing genres. It represents less than 0.2% of the dataset. There isn't any simple way of giving a genre so we would prefer to remove these values. All the other entries are valid."
   ]
  },
  {
   "cell_type": "markdown",
   "metadata": {},
   "source": [
    "### `ordering`"
   ]
  },
  {
   "cell_type": "code",
   "execution_count": 121,
   "metadata": {},
   "outputs": [
    {
     "data": {
      "text/plain": [
       "0"
      ]
     },
     "execution_count": 121,
     "metadata": {},
     "output_type": "execute_result"
    }
   ],
   "source": [
    "movies.ordering.isna().sum()"
   ]
  },
  {
   "cell_type": "code",
   "execution_count": 127,
   "metadata": {},
   "outputs": [
    {
     "data": {
      "image/png": "[encoded data removed]",
      "text/plain": [
       "<Figure size 640x480 with 1 Axes>"
      ]
     },
     "metadata": {},
     "output_type": "display_data"
    }
   ],
   "source": [
    "plt.hist(movies.ordering, bins = 30)\n",
    "plt.show()"
   ]
  },
  {
   "cell_type": "markdown",
   "metadata": {},
   "source": [
    "By looking at the distribution not any sample seems to be an outlier. There aren't any missing entries for this attribute."
   ]
  },
  {
   "cell_type": "markdown",
   "metadata": {},
   "source": [
    "### `region`"
   ]
  },
  {
   "cell_type": "code",
   "execution_count": 116,
   "metadata": {},
   "outputs": [
    {
     "data": {
      "text/plain": [
       "US    9538110\n",
       "Name: region, dtype: int64"
      ]
     },
     "execution_count": 116,
     "metadata": {},
     "output_type": "execute_result"
    }
   ],
   "source": [
    "movies.region.value_counts()"
   ]
  },
  {
   "cell_type": "markdown",
   "metadata": {},
   "source": [
    "Only one distinct value and there isn't any missing entries. This entry don't give any information. "
   ]
  },
  {
   "cell_type": "markdown",
   "metadata": {},
   "source": [
    "### `language`"
   ]
  },
  {
   "cell_type": "code",
   "execution_count": 119,
   "metadata": {},
   "outputs": [
    {
     "data": {
      "text/plain": [
       "0.982686507075301"
      ]
     },
     "execution_count": 119,
     "metadata": {},
     "output_type": "execute_result"
    }
   ],
   "source": [
    "movies.language.isna().sum()/movies.shape[0]"
   ]
  },
  {
   "cell_type": "code",
   "execution_count": 117,
   "metadata": {},
   "outputs": [
    {
     "data": {
      "text/plain": [
       "en     139946\n",
       "es      23443\n",
       "yi       1317\n",
       "haw       324\n",
       "hi        108\n",
       "Name: language, dtype: int64"
      ]
     },
     "execution_count": 117,
     "metadata": {},
     "output_type": "execute_result"
    }
   ],
   "source": [
    "movies.language.value_counts()"
   ]
  },
  {
   "cell_type": "markdown",
   "metadata": {},
   "source": [
    "With more than 98% of missing entries, this attribute can't be used."
   ]
  },
  {
   "cell_type": "markdown",
   "metadata": {},
   "source": [
    "### `types`"
   ]
  },
  {
   "cell_type": "code",
   "execution_count": 164,
   "metadata": {},
   "outputs": [
    {
     "data": {
      "text/plain": [
       "0.15596192537095924"
      ]
     },
     "execution_count": 164,
     "metadata": {},
     "output_type": "execute_result"
    }
   ],
   "source": [
    "movies.types.isna().sum()/movies.shape[0]"
   ]
  },
  {
   "cell_type": "code",
   "execution_count": 165,
   "metadata": {},
   "outputs": [
    {
     "data": {
      "text/plain": [
       "imdbDisplay         6424056\n",
       "working             1184412\n",
       "alternative          256003\n",
       "dvd                   69615\n",
       "video                 64396\n",
       "festival              28018\n",
       "tv                    22624\n",
       "original                450\n",
       "video\u0002working           321\n",
       "tv\u0002working              232\n",
       "tv\u0002video                176\n",
       "festival\u0002working        147\n",
       "dvd\u0002video                78\n",
       "Name: types, dtype: int64"
      ]
     },
     "execution_count": 165,
     "metadata": {},
     "output_type": "execute_result"
    }
   ],
   "source": [
    "movies.types.value_counts()"
   ]
  },
  {
   "cell_type": "markdown",
   "metadata": {},
   "source": [
    "There are around 16% or entries missing for this attribute. There is a strong class imbalance in this attribute so it may be possible to replace by the mode imbdDisplay. As it adds bias to the dataset, it can be unappropriate to replace these values, we assume that the purpose of the further study won't be mainly focused on the types attribute. "
   ]
  },
  {
   "cell_type": "markdown",
   "metadata": {},
   "source": [
    "### `attributes`"
   ]
  },
  {
   "cell_type": "code",
   "execution_count": 129,
   "metadata": {},
   "outputs": [
    {
     "data": {
      "text/plain": [
       "0.8848327394001537"
      ]
     },
     "execution_count": 129,
     "metadata": {},
     "output_type": "execute_result"
    }
   ],
   "source": [
    "movies.attributes.isna().sum()/movies.shape[0]"
   ]
  },
  {
   "cell_type": "markdown",
   "metadata": {},
   "source": [
    "With more than 88% percent of missing values this attribute can't be used for data mining. "
   ]
  },
  {
   "cell_type": "markdown",
   "metadata": {},
   "source": [
    "### `averageRating`"
   ]
  },
  {
   "cell_type": "code",
   "execution_count": 139,
   "metadata": {},
   "outputs": [
    {
     "name": "stdout",
     "output_type": "stream",
     "text": [
      "movies.averageRating.isna().sum()=0\n",
      "movies.averageRating.min()=1.0\n",
      "movies.averageRating.max()=10.0\n"
     ]
    },
    {
     "data": {
      "image/png": "[encoded data removed]",
      "text/plain": [
       "<Figure size 640x480 with 1 Axes>"
      ]
     },
     "metadata": {},
     "output_type": "display_data"
    }
   ],
   "source": [
    "print(f'{movies.averageRating.isna().sum()=}')\n",
    "\n",
    "print(f'{movies.averageRating.min()=}')\n",
    "print(f'{movies.averageRating.max()=}')\n",
    "\n",
    "plt.hist(movies.averageRating, bins=30)\n",
    "plt.show()"
   ]
  },
  {
   "cell_type": "markdown",
   "metadata": {},
   "source": [
    "Values of the attribute are in the right range [0-10]. With no missing values."
   ]
  },
  {
   "cell_type": "markdown",
   "metadata": {},
   "source": [
    "### `numVotes`"
   ]
  },
  {
   "cell_type": "code",
   "execution_count": 140,
   "metadata": {},
   "outputs": [
    {
     "name": "stdout",
     "output_type": "stream",
     "text": [
      "movies.numVotes.isna().sum()=0\n",
      "movies.numVotes.min()=5\n",
      "movies.numVotes.max()=2479369\n"
     ]
    },
    {
     "data": {
      "image/png": "[encoded data removed]",
      "text/plain": [
       "<Figure size 640x480 with 1 Axes>"
      ]
     },
     "metadata": {},
     "output_type": "display_data"
    }
   ],
   "source": [
    "print(f'{movies.numVotes.isna().sum()=}')\n",
    "\n",
    "print(f'{movies.numVotes.min()=}')\n",
    "print(f'{movies.numVotes.max()=}')\n",
    "\n",
    "plt.hist(movies.numVotes, bins=30)\n",
    "plt.show()"
   ]
  },
  {
   "cell_type": "code",
   "execution_count": 143,
   "metadata": {},
   "outputs": [
    {
     "data": {
      "text/html": [
       "<div>\n",
       "<style scoped>\n",
       "    .dataframe tbody tr th:only-of-type {\n",
       "        vertical-align: middle;\n",
       "    }\n",
       "\n",
       "    .dataframe tbody tr th {\n",
       "        vertical-align: top;\n",
       "    }\n",
       "\n",
       "    .dataframe thead th {\n",
       "        text-align: right;\n",
       "    }\n",
       "</style>\n",
       "<table border=\"1\" class=\"dataframe\">\n",
       "  <thead>\n",
       "    <tr style=\"text-align: right;\">\n",
       "      <th></th>\n",
       "      <th>numVotes</th>\n",
       "      <th>title</th>\n",
       "    </tr>\n",
       "  </thead>\n",
       "  <tbody>\n",
       "    <tr>\n",
       "      <th>2041726</th>\n",
       "      <td>2479369</td>\n",
       "      <td>Rita Hayworth and Shawshank Redemption</td>\n",
       "    </tr>\n",
       "    <tr>\n",
       "      <th>2041829</th>\n",
       "      <td>2479369</td>\n",
       "      <td>The Shawshank Redemption</td>\n",
       "    </tr>\n",
       "    <tr>\n",
       "      <th>4500208</th>\n",
       "      <td>2433653</td>\n",
       "      <td>The Dark Knight</td>\n",
       "    </tr>\n",
       "    <tr>\n",
       "      <th>4500199</th>\n",
       "      <td>2433653</td>\n",
       "      <td>The Dark Knight: The IMAX Experience</td>\n",
       "    </tr>\n",
       "    <tr>\n",
       "      <th>4500193</th>\n",
       "      <td>2433653</td>\n",
       "      <td>Rory's First Kiss</td>\n",
       "    </tr>\n",
       "    <tr>\n",
       "      <th>4500194</th>\n",
       "      <td>2433653</td>\n",
       "      <td>Batman: The Dark Knight</td>\n",
       "    </tr>\n",
       "    <tr>\n",
       "      <th>4500195</th>\n",
       "      <td>2433653</td>\n",
       "      <td>Untitled Batman Begins Sequel</td>\n",
       "    </tr>\n",
       "    <tr>\n",
       "      <th>4500196</th>\n",
       "      <td>2433653</td>\n",
       "      <td>Winter Green</td>\n",
       "    </tr>\n",
       "    <tr>\n",
       "      <th>4500198</th>\n",
       "      <td>2433653</td>\n",
       "      <td>Batman Begins 2</td>\n",
       "    </tr>\n",
       "    <tr>\n",
       "      <th>5923538</th>\n",
       "      <td>2183856</td>\n",
       "      <td>Inception: The IMAX Experience</td>\n",
       "    </tr>\n",
       "  </tbody>\n",
       "</table>\n",
       "</div>"
      ],
      "text/plain": [
       "         numVotes                                   title\n",
       "2041726   2479369  Rita Hayworth and Shawshank Redemption\n",
       "2041829   2479369                The Shawshank Redemption\n",
       "4500208   2433653                         The Dark Knight\n",
       "4500199   2433653    The Dark Knight: The IMAX Experience\n",
       "4500193   2433653                       Rory's First Kiss\n",
       "4500194   2433653                 Batman: The Dark Knight\n",
       "4500195   2433653           Untitled Batman Begins Sequel\n",
       "4500196   2433653                            Winter Green\n",
       "4500198   2433653                         Batman Begins 2\n",
       "5923538   2183856          Inception: The IMAX Experience"
      ]
     },
     "execution_count": 143,
     "metadata": {},
     "output_type": "execute_result"
    }
   ],
   "source": [
    "movies.sort_values('numVotes', ascending=False)[['numVotes', 'title']].drop_duplicates().head(10)"
   ]
  },
  {
   "cell_type": "markdown",
   "metadata": {},
   "source": [
    "The range of the attribute seems correct (only positive values and the one with the most votes are popular). No missing values."
   ]
  },
  {
   "cell_type": "markdown",
   "metadata": {},
   "source": [
    "# Replacement and column removal"
   ]
  },
  {
   "cell_type": "code",
   "execution_count": 188,
   "metadata": {},
   "outputs": [],
   "source": [
    "out = movies.copy().drop(\n",
    "        ['birthYear', 'deathYear', 'primaryTitle', 'originalTitle', 'isOriginalTitle', 'endYear', 'region', 'language', 'attributes'],\n",
    "        axis=1\n",
    "    )"
   ]
  },
  {
   "cell_type": "code",
   "execution_count": 189,
   "metadata": {},
   "outputs": [],
   "source": [
    "out.loc[out.title == \"The Money (1976)\", 'startYear'] = 1976\n",
    "\n",
    "out.loc[out.types.isna(), 'types'] = 'imbdDisplay'\n",
    "\n",
    "out = out.dropna(axis=0, subset= ['startYear'])\n",
    "\n",
    "out.loc[ np.abs(zscore(out.runtimeMinutes, nan_policy='omit')) >10, 'runtimeMinutes'] = np.nan\n",
    "out.loc[out.runtimeMinutes.isna(), 'runtimeMinutes'] = np.nanquantile(out.runtimeMinutes.values, .5)"
   ]
  },
  {
   "cell_type": "code",
   "execution_count": 193,
   "metadata": {},
   "outputs": [],
   "source": [
    "out.reset_index(drop=True, inplace=True)"
   ]
  },
  {
   "cell_type": "code",
   "execution_count": 197,
   "metadata": {},
   "outputs": [
    {
     "data": {
      "text/html": [
       "<div>\n",
       "<style scoped>\n",
       "    .dataframe tbody tr th:only-of-type {\n",
       "        vertical-align: middle;\n",
       "    }\n",
       "\n",
       "    .dataframe tbody tr th {\n",
       "        vertical-align: top;\n",
       "    }\n",
       "\n",
       "    .dataframe thead th {\n",
       "        text-align: right;\n",
       "    }\n",
       "</style>\n",
       "<table border=\"1\" class=\"dataframe\">\n",
       "  <thead>\n",
       "    <tr style=\"text-align: right;\">\n",
       "      <th></th>\n",
       "      <th>tconst</th>\n",
       "      <th>nconst</th>\n",
       "      <th>primaryName</th>\n",
       "      <th>primaryProfession</th>\n",
       "      <th>titleType</th>\n",
       "      <th>isAdult</th>\n",
       "      <th>startYear</th>\n",
       "      <th>runtimeMinutes</th>\n",
       "      <th>genres</th>\n",
       "      <th>ordering</th>\n",
       "      <th>title</th>\n",
       "      <th>types</th>\n",
       "      <th>averageRating</th>\n",
       "      <th>numVotes</th>\n",
       "    </tr>\n",
       "  </thead>\n",
       "  <tbody>\n",
       "    <tr>\n",
       "      <th>0</th>\n",
       "      <td>tt0000574</td>\n",
       "      <td>nm0143899</td>\n",
       "      <td>Godfrey Cass</td>\n",
       "      <td>actor</td>\n",
       "      <td>movie</td>\n",
       "      <td>0</td>\n",
       "      <td>1906.0</td>\n",
       "      <td>70.0</td>\n",
       "      <td>Action</td>\n",
       "      <td>6</td>\n",
       "      <td>The Story of the Kelly Gang</td>\n",
       "      <td>imdbDisplay</td>\n",
       "      <td>6.1</td>\n",
       "      <td>735</td>\n",
       "    </tr>\n",
       "    <tr>\n",
       "      <th>1</th>\n",
       "      <td>tt0000574</td>\n",
       "      <td>nm0143899</td>\n",
       "      <td>Godfrey Cass</td>\n",
       "      <td>actor</td>\n",
       "      <td>movie</td>\n",
       "      <td>0</td>\n",
       "      <td>1906.0</td>\n",
       "      <td>70.0</td>\n",
       "      <td>Adventure</td>\n",
       "      <td>6</td>\n",
       "      <td>The Story of the Kelly Gang</td>\n",
       "      <td>imdbDisplay</td>\n",
       "      <td>6.1</td>\n",
       "      <td>735</td>\n",
       "    </tr>\n",
       "    <tr>\n",
       "      <th>2</th>\n",
       "      <td>tt0000574</td>\n",
       "      <td>nm0143899</td>\n",
       "      <td>Godfrey Cass</td>\n",
       "      <td>actor</td>\n",
       "      <td>movie</td>\n",
       "      <td>0</td>\n",
       "      <td>1906.0</td>\n",
       "      <td>70.0</td>\n",
       "      <td>Biography</td>\n",
       "      <td>6</td>\n",
       "      <td>The Story of the Kelly Gang</td>\n",
       "      <td>imdbDisplay</td>\n",
       "      <td>6.1</td>\n",
       "      <td>735</td>\n",
       "    </tr>\n",
       "    <tr>\n",
       "      <th>3</th>\n",
       "      <td>tt0000574</td>\n",
       "      <td>nm0170118</td>\n",
       "      <td>Bella Cola</td>\n",
       "      <td>actress</td>\n",
       "      <td>movie</td>\n",
       "      <td>0</td>\n",
       "      <td>1906.0</td>\n",
       "      <td>70.0</td>\n",
       "      <td>Action</td>\n",
       "      <td>6</td>\n",
       "      <td>The Story of the Kelly Gang</td>\n",
       "      <td>imdbDisplay</td>\n",
       "      <td>6.1</td>\n",
       "      <td>735</td>\n",
       "    </tr>\n",
       "    <tr>\n",
       "      <th>4</th>\n",
       "      <td>tt0000574</td>\n",
       "      <td>nm0170118</td>\n",
       "      <td>Bella Cola</td>\n",
       "      <td>actress</td>\n",
       "      <td>movie</td>\n",
       "      <td>0</td>\n",
       "      <td>1906.0</td>\n",
       "      <td>70.0</td>\n",
       "      <td>Adventure</td>\n",
       "      <td>6</td>\n",
       "      <td>The Story of the Kelly Gang</td>\n",
       "      <td>imdbDisplay</td>\n",
       "      <td>6.1</td>\n",
       "      <td>735</td>\n",
       "    </tr>\n",
       "  </tbody>\n",
       "</table>\n",
       "</div>"
      ],
      "text/plain": [
       "      tconst     nconst   primaryName primaryProfession titleType  isAdult  \\\n",
       "0  tt0000574  nm0143899  Godfrey Cass             actor     movie        0   \n",
       "1  tt0000574  nm0143899  Godfrey Cass             actor     movie        0   \n",
       "2  tt0000574  nm0143899  Godfrey Cass             actor     movie        0   \n",
       "3  tt0000574  nm0170118    Bella Cola           actress     movie        0   \n",
       "4  tt0000574  nm0170118    Bella Cola           actress     movie        0   \n",
       "\n",
       "   startYear  runtimeMinutes     genres  ordering  \\\n",
       "0     1906.0            70.0     Action         6   \n",
       "1     1906.0            70.0  Adventure         6   \n",
       "2     1906.0            70.0  Biography         6   \n",
       "3     1906.0            70.0     Action         6   \n",
       "4     1906.0            70.0  Adventure         6   \n",
       "\n",
       "                         title        types  averageRating  numVotes  \n",
       "0  The Story of the Kelly Gang  imdbDisplay            6.1       735  \n",
       "1  The Story of the Kelly Gang  imdbDisplay            6.1       735  \n",
       "2  The Story of the Kelly Gang  imdbDisplay            6.1       735  \n",
       "3  The Story of the Kelly Gang  imdbDisplay            6.1       735  \n",
       "4  The Story of the Kelly Gang  imdbDisplay            6.1       735  "
      ]
     },
     "execution_count": 197,
     "metadata": {},
     "output_type": "execute_result"
    }
   ],
   "source": [
    "out.head(5)"
   ]
  },
  {
   "cell_type": "markdown",
   "metadata": {},
   "source": [
    "# Normalization"
   ]
  },
  {
   "cell_type": "code",
   "execution_count": null,
   "metadata": {},
   "outputs": [],
   "source": []
  }
 ],
 "metadata": {
  "interpreter": {
   "hash": "b3ba2566441a7c06988d0923437866b63cedc61552a5af99d1f4fb67d367b25f"
  },
  "kernelspec": {
   "display_name": "Python 3.8.8 64-bit ('base': conda)",
   "language": "python",
   "name": "python3"
  },
  "language_info": {
   "codemirror_mode": {
    "name": "ipython",
    "version": 3
   },
   "file_extension": ".py",
   "mimetype": "text/x-python",
   "name": "python",
   "nbconvert_exporter": "python",
   "pygments_lexer": "ipython3",
   "version": "3.8.8"
  },
  "orig_nbformat": 4
 },
 "nbformat": 4,
 "nbformat_minor": 2
}
