{
 "cells": [
  {
   "cell_type": "markdown",
   "metadata": {},
   "source": [
    "# Phase 4 - Outliers detection and normalization\n",
    "*TEAM 5*"
   ]
  },
  {
   "cell_type": "code",
   "execution_count": 3,
   "metadata": {},
   "outputs": [],
   "source": [
    "import pandas as pd\n",
    "import numpy as np\n",
    "import re\n",
    "\n",
    "import matplotlib.pyplot as plt\n",
    "from scipy.stats import zscore\n"
   ]
  },
  {
   "cell_type": "code",
   "execution_count": 4,
   "metadata": {},
   "outputs": [
    {
     "name": "stderr",
     "output_type": "stream",
     "text": [
      "/Applications/JupyterLab.app/Contents/Resources/jlab_server/lib/python3.8/site-packages/IPython/core/interactiveshell.py:3444: DtypeWarning: Columns (17) have mixed types.Specify dtype option on import or set low_memory=False.\n",
      "  exec(code_obj, self.user_global_ns, self.user_ns)\n"
     ]
    },
    {
     "name": "stdout",
     "output_type": "stream",
     "text": [
      "movies.shape=(9533177, 23)\n"
     ]
    }
   ],
   "source": [
    "movies = pd.read_csv('../data/us.movies.actors.tsv', sep='\\t', na_values=['\\\\N'])\n",
    "print(f'{movies.shape=}')"
   ]
  },
  {
   "cell_type": "code",
   "execution_count": 336,
   "metadata": {},
   "outputs": [
    {
     "data": {
      "text/html": [
       "<div>\n",
       "<style scoped>\n",
       "    .dataframe tbody tr th:only-of-type {\n",
       "        vertical-align: middle;\n",
       "    }\n",
       "\n",
       "    .dataframe tbody tr th {\n",
       "        vertical-align: top;\n",
       "    }\n",
       "\n",
       "    .dataframe thead th {\n",
       "        text-align: right;\n",
       "    }\n",
       "</style>\n",
       "<table border=\"1\" class=\"dataframe\">\n",
       "  <thead>\n",
       "    <tr style=\"text-align: right;\">\n",
       "      <th></th>\n",
       "      <th>tconst</th>\n",
       "      <th>nconst</th>\n",
       "      <th>primaryName</th>\n",
       "      <th>birthYear</th>\n",
       "      <th>deathYear</th>\n",
       "      <th>primaryProfession</th>\n",
       "      <th>titleType</th>\n",
       "      <th>primaryTitle</th>\n",
       "      <th>originalTitle</th>\n",
       "      <th>isAdult</th>\n",
       "      <th>...</th>\n",
       "      <th>genres</th>\n",
       "      <th>ordering</th>\n",
       "      <th>title</th>\n",
       "      <th>region</th>\n",
       "      <th>language</th>\n",
       "      <th>types</th>\n",
       "      <th>attributes</th>\n",
       "      <th>isOriginalTitle</th>\n",
       "      <th>averageRating</th>\n",
       "      <th>numVotes</th>\n",
       "    </tr>\n",
       "  </thead>\n",
       "  <tbody>\n",
       "    <tr>\n",
       "      <th>0</th>\n",
       "      <td>tt0000574</td>\n",
       "      <td>nm0143899</td>\n",
       "      <td>Godfrey Cass</td>\n",
       "      <td>1866.0</td>\n",
       "      <td>1951.0</td>\n",
       "      <td>actor</td>\n",
       "      <td>movie</td>\n",
       "      <td>The Story of the Kelly Gang</td>\n",
       "      <td>The Story of the Kelly Gang</td>\n",
       "      <td>0</td>\n",
       "      <td>...</td>\n",
       "      <td>Action</td>\n",
       "      <td>6</td>\n",
       "      <td>The Story of the Kelly Gang</td>\n",
       "      <td>US</td>\n",
       "      <td>NaN</td>\n",
       "      <td>imdbDisplay</td>\n",
       "      <td>NaN</td>\n",
       "      <td>0</td>\n",
       "      <td>6.1</td>\n",
       "      <td>735</td>\n",
       "    </tr>\n",
       "    <tr>\n",
       "      <th>1</th>\n",
       "      <td>tt0000574</td>\n",
       "      <td>nm0143899</td>\n",
       "      <td>Godfrey Cass</td>\n",
       "      <td>1866.0</td>\n",
       "      <td>1951.0</td>\n",
       "      <td>actor</td>\n",
       "      <td>movie</td>\n",
       "      <td>The Story of the Kelly Gang</td>\n",
       "      <td>The Story of the Kelly Gang</td>\n",
       "      <td>0</td>\n",
       "      <td>...</td>\n",
       "      <td>Adventure</td>\n",
       "      <td>6</td>\n",
       "      <td>The Story of the Kelly Gang</td>\n",
       "      <td>US</td>\n",
       "      <td>NaN</td>\n",
       "      <td>imdbDisplay</td>\n",
       "      <td>NaN</td>\n",
       "      <td>0</td>\n",
       "      <td>6.1</td>\n",
       "      <td>735</td>\n",
       "    </tr>\n",
       "    <tr>\n",
       "      <th>2</th>\n",
       "      <td>tt0000574</td>\n",
       "      <td>nm0143899</td>\n",
       "      <td>Godfrey Cass</td>\n",
       "      <td>1866.0</td>\n",
       "      <td>1951.0</td>\n",
       "      <td>actor</td>\n",
       "      <td>movie</td>\n",
       "      <td>The Story of the Kelly Gang</td>\n",
       "      <td>The Story of the Kelly Gang</td>\n",
       "      <td>0</td>\n",
       "      <td>...</td>\n",
       "      <td>Biography</td>\n",
       "      <td>6</td>\n",
       "      <td>The Story of the Kelly Gang</td>\n",
       "      <td>US</td>\n",
       "      <td>NaN</td>\n",
       "      <td>imdbDisplay</td>\n",
       "      <td>NaN</td>\n",
       "      <td>0</td>\n",
       "      <td>6.1</td>\n",
       "      <td>735</td>\n",
       "    </tr>\n",
       "    <tr>\n",
       "      <th>3</th>\n",
       "      <td>tt0000574</td>\n",
       "      <td>nm0170118</td>\n",
       "      <td>Bella Cola</td>\n",
       "      <td>NaN</td>\n",
       "      <td>NaN</td>\n",
       "      <td>actress</td>\n",
       "      <td>movie</td>\n",
       "      <td>The Story of the Kelly Gang</td>\n",
       "      <td>The Story of the Kelly Gang</td>\n",
       "      <td>0</td>\n",
       "      <td>...</td>\n",
       "      <td>Action</td>\n",
       "      <td>6</td>\n",
       "      <td>The Story of the Kelly Gang</td>\n",
       "      <td>US</td>\n",
       "      <td>NaN</td>\n",
       "      <td>imdbDisplay</td>\n",
       "      <td>NaN</td>\n",
       "      <td>0</td>\n",
       "      <td>6.1</td>\n",
       "      <td>735</td>\n",
       "    </tr>\n",
       "    <tr>\n",
       "      <th>4</th>\n",
       "      <td>tt0000574</td>\n",
       "      <td>nm0170118</td>\n",
       "      <td>Bella Cola</td>\n",
       "      <td>NaN</td>\n",
       "      <td>NaN</td>\n",
       "      <td>actress</td>\n",
       "      <td>movie</td>\n",
       "      <td>The Story of the Kelly Gang</td>\n",
       "      <td>The Story of the Kelly Gang</td>\n",
       "      <td>0</td>\n",
       "      <td>...</td>\n",
       "      <td>Adventure</td>\n",
       "      <td>6</td>\n",
       "      <td>The Story of the Kelly Gang</td>\n",
       "      <td>US</td>\n",
       "      <td>NaN</td>\n",
       "      <td>imdbDisplay</td>\n",
       "      <td>NaN</td>\n",
       "      <td>0</td>\n",
       "      <td>6.1</td>\n",
       "      <td>735</td>\n",
       "    </tr>\n",
       "  </tbody>\n",
       "</table>\n",
       "<p>5 rows × 23 columns</p>\n",
       "</div>"
      ],
      "text/plain": [
       "      tconst     nconst   primaryName  birthYear  deathYear primaryProfession  \\\n",
       "0  tt0000574  nm0143899  Godfrey Cass     1866.0     1951.0             actor   \n",
       "1  tt0000574  nm0143899  Godfrey Cass     1866.0     1951.0             actor   \n",
       "2  tt0000574  nm0143899  Godfrey Cass     1866.0     1951.0             actor   \n",
       "3  tt0000574  nm0170118    Bella Cola        NaN        NaN           actress   \n",
       "4  tt0000574  nm0170118    Bella Cola        NaN        NaN           actress   \n",
       "\n",
       "  titleType                 primaryTitle                originalTitle  \\\n",
       "0     movie  The Story of the Kelly Gang  The Story of the Kelly Gang   \n",
       "1     movie  The Story of the Kelly Gang  The Story of the Kelly Gang   \n",
       "2     movie  The Story of the Kelly Gang  The Story of the Kelly Gang   \n",
       "3     movie  The Story of the Kelly Gang  The Story of the Kelly Gang   \n",
       "4     movie  The Story of the Kelly Gang  The Story of the Kelly Gang   \n",
       "\n",
       "   isAdult  ...     genres  ordering                        title region  \\\n",
       "0        0  ...     Action         6  The Story of the Kelly Gang     US   \n",
       "1        0  ...  Adventure         6  The Story of the Kelly Gang     US   \n",
       "2        0  ...  Biography         6  The Story of the Kelly Gang     US   \n",
       "3        0  ...     Action         6  The Story of the Kelly Gang     US   \n",
       "4        0  ...  Adventure         6  The Story of the Kelly Gang     US   \n",
       "\n",
       "   language        types attributes isOriginalTitle averageRating numVotes  \n",
       "0       NaN  imdbDisplay        NaN               0           6.1      735  \n",
       "1       NaN  imdbDisplay        NaN               0           6.1      735  \n",
       "2       NaN  imdbDisplay        NaN               0           6.1      735  \n",
       "3       NaN  imdbDisplay        NaN               0           6.1      735  \n",
       "4       NaN  imdbDisplay        NaN               0           6.1      735  \n",
       "\n",
       "[5 rows x 23 columns]"
      ]
     },
     "execution_count": 336,
     "metadata": {},
     "output_type": "execute_result"
    }
   ],
   "source": [
    "movies.head()"
   ]
  },
  {
   "cell_type": "markdown",
   "metadata": {},
   "source": [
    "## Treating attribute missing and invalid values\n",
    "\n",
    "Summary of the work done in the Python cells below:\n",
    "\n",
    "- `tconst`: checking missing values and invalid format of the id, there isn't any of those. However, the attribute has almost only distinct values and should be deleted if during the data mining application.\n",
    "- `nconst`: checking missing values and invalid format of the id, there isn't any of those. However, as for the previous attribute nconst has a lot of distinct values. It should be removed when data mining is applied.\n",
    "- `primaryName`: checking missing values, there isn't any. As for the previous two, a lot a distinct values.\n",
    "- `birthYear`: the missing value rate is above 73% which makes this attribute useless for the learning. \n",
    "- `deathYear`: as previously, the missing value rate is high (above 90%). It is understandable as all the actors aren't dead but it still makes this attribute hard to use and he may be irrelevant for the learning algorithm to keep this information.  \n",
    "- `primaryProfession`: no missing or invalid values in this attribute.\n",
    "- `titleType`: there aren't any invalid or missing entries for this attribute. There is a strong class imbalance which may lead to the suppression of this attribute but the information given may worth to keep it for now.\n",
    "- `primaryTitle`: no invalid or missing values but lot of distinct values and 81% of similarity with originalTitle.\n",
    "- `originalTitle`: no invalid or missing values but lot of distinct values and 81% of similarity with primaryTitle.\n",
    "- `isAdult`: no invalid or missing entries but a strong class imbalance. However, the given information may be considered by the miner depending on his study.\n",
    "- `startYear`: No invalid attributes as the range is coherent (1906-2021). 7 movies with missing startYear. They can be deleted regarding the size of the dataset if the purpose is to apply data mining methods. \n",
    "- `endYear`: all the values are missing for this attribute. It must be deleted as it doesn't bring any information.\n",
    "- `runtimeMinutes`: there are some missing values and the value-range is too wide. As this variable may be very important for the analysis, it would be interesting to substitute its missing or invalid values. We identify outliers by computing the z-score. The entries with a too high z-score are omitted (z>10). Using z-score assumes normal distribution of the variable. We can validate this hypothesis afterward with the ditribution plot. These omitted values represent less than 2% of the entries which isn't a big ratio. We replace these values with the median as this replacement method is less sensitive to the distribution and the remaining extreme values.\n",
    "- `genres`: there are 2094 movies with missing genres. It represents less than 0.2% of the dataset. There isn't any simple way of giving a genre so we would prefer to remove these values. All the other entries are valid.\n",
    "- `ordering`: by looking at the distribution not any sample seems to be an outlier. There aren't any missing entries for this attribute.\n",
    "- `title`: no invalid or missing values but lot of distinct values. This attribute has a lot of similarity with primaryTitle and originalTitle. \n",
    "- `region`: only one distinct value and there isn't any missing entries. This entry don't bring any information. \n",
    "- `language`: with more than 98% of missing entries, this attribute can't be used.\n",
    "- `types`: there are around 16% or entries missing for this attribute. There is a strong class imbalance in this attribute so it may be possible to replace by the mode. As it adds bias to the dataset, it can be unappropriate to replace these values, we assume that the purpose of the further study won't be mainly focused on the types attribute. \n",
    "- `attributes`: with more than 88% percent of missing values, no information can be extracted for data mining purpose. \n",
    "- `averageRating`: values of the attribute are in the right range [0-10]. With no missing values.\n",
    "- `numVotes`: the range of the attribute seems correct (only positive values and the one with the most votes are popular). No missing values."
   ]
  },
  {
   "cell_type": "markdown",
   "metadata": {},
   "source": [
    "### `tconst`"
   ]
  },
  {
   "cell_type": "code",
   "execution_count": 337,
   "metadata": {},
   "outputs": [
    {
     "name": "stdout",
     "output_type": "stream",
     "text": [
      "movies.tconst.nunique()=144901\n",
      "movies.tconst.isna().sum()=0\n"
     ]
    }
   ],
   "source": [
    "print(f'{movies.tconst.nunique()=}')\n",
    "print(f'{movies.tconst.isna().sum()=}')"
   ]
  },
  {
   "cell_type": "code",
   "execution_count": 338,
   "metadata": {},
   "outputs": [
    {
     "data": {
      "text/plain": [
       "9533177"
      ]
     },
     "execution_count": 338,
     "metadata": {},
     "output_type": "execute_result"
    }
   ],
   "source": [
    "is_tconst_format = lambda x: bool(re.match('tt[0-9]+', x))\n",
    "movies.tconst.map(is_tconst_format).sum()"
   ]
  },
  {
   "cell_type": "markdown",
   "metadata": {},
   "source": [
    "No missing and/or invalid values, lot of distinct values."
   ]
  },
  {
   "cell_type": "markdown",
   "metadata": {},
   "source": [
    "### `nconst`"
   ]
  },
  {
   "cell_type": "code",
   "execution_count": 339,
   "metadata": {},
   "outputs": [
    {
     "name": "stdout",
     "output_type": "stream",
     "text": [
      "movies.nconst.nunique()=1336807\n",
      "movies.nconst.isna().sum()=0\n"
     ]
    }
   ],
   "source": [
    "print(f'{movies.nconst.nunique()=}')\n",
    "print(f'{movies.nconst.isna().sum()=}')"
   ]
  },
  {
   "cell_type": "code",
   "execution_count": 340,
   "metadata": {},
   "outputs": [
    {
     "data": {
      "text/plain": [
       "9533177"
      ]
     },
     "execution_count": 340,
     "metadata": {},
     "output_type": "execute_result"
    }
   ],
   "source": [
    "is_nconst_format = lambda x: bool(re.match('nm[0-9]+', x))\n",
    "movies.nconst.map(is_nconst_format).sum()"
   ]
  },
  {
   "cell_type": "markdown",
   "metadata": {},
   "source": [
    "No missing and/or invalid values, lot of distinct values."
   ]
  },
  {
   "cell_type": "markdown",
   "metadata": {},
   "source": [
    "### `primaryName`"
   ]
  },
  {
   "cell_type": "code",
   "execution_count": 341,
   "metadata": {},
   "outputs": [
    {
     "name": "stdout",
     "output_type": "stream",
     "text": [
      "0\n"
     ]
    }
   ],
   "source": [
    "print(movies.primaryName.isna().sum())"
   ]
  },
  {
   "cell_type": "code",
   "execution_count": 342,
   "metadata": {},
   "outputs": [
    {
     "name": "stdout",
     "output_type": "stream",
     "text": [
      "movies.primaryName.nunique()=1243637\n"
     ]
    }
   ],
   "source": [
    "print(f'{movies.primaryName.nunique()=}')"
   ]
  },
  {
   "cell_type": "markdown",
   "metadata": {},
   "source": [
    "No missing values, lot of distinct values."
   ]
  },
  {
   "cell_type": "markdown",
   "metadata": {},
   "source": [
    "### `Birth year`"
   ]
  },
  {
   "cell_type": "code",
   "execution_count": 343,
   "metadata": {},
   "outputs": [
    {
     "data": {
      "text/plain": [
       "0.7325901952727826"
      ]
     },
     "execution_count": 343,
     "metadata": {},
     "output_type": "execute_result"
    }
   ],
   "source": [
    "movies.birthYear.isna().mean()"
   ]
  },
  {
   "cell_type": "markdown",
   "metadata": {},
   "source": [
    "The missing value rate is above 73% which may make this attribute useless for the learning. "
   ]
  },
  {
   "cell_type": "markdown",
   "metadata": {},
   "source": [
    "### `deathYear`"
   ]
  },
  {
   "cell_type": "code",
   "execution_count": 344,
   "metadata": {},
   "outputs": [
    {
     "data": {
      "text/plain": [
       "0.9134920079633474"
      ]
     },
     "execution_count": 344,
     "metadata": {},
     "output_type": "execute_result"
    }
   ],
   "source": [
    "movies.deathYear.isna().mean()"
   ]
  },
  {
   "cell_type": "markdown",
   "metadata": {},
   "source": [
    "The missing value rate is above 90%. It is understandable as all the actors aren't dead but it still makes this attribute hard to use and he may be irrelevant for the learning algorithm to keep this information."
   ]
  },
  {
   "cell_type": "markdown",
   "metadata": {},
   "source": [
    "### `primaryProfession`"
   ]
  },
  {
   "cell_type": "code",
   "execution_count": 345,
   "metadata": {},
   "outputs": [
    {
     "data": {
      "text/plain": [
       "0"
      ]
     },
     "execution_count": 345,
     "metadata": {},
     "output_type": "execute_result"
    }
   ],
   "source": [
    "movies.primaryProfession.isna().sum()"
   ]
  },
  {
   "cell_type": "code",
   "execution_count": 346,
   "metadata": {},
   "outputs": [
    {
     "data": {
      "text/plain": [
       "array(['actor', 'actress', 'assistant_director', 'cinematographer',\n",
       "       'producer', 'director', 'writer', 'production_designer', 'editor',\n",
       "       'editorial_department', 'make_up_department', 'soundtrack',\n",
       "       'location_management', 'miscellaneous', 'sound_department',\n",
       "       'visual_effects', 'production_manager', 'animation_department',\n",
       "       'stunts', 'art_department', 'camera_department',\n",
       "       'costume_department', 'casting_director', 'script_department',\n",
       "       'special_effects', 'composer', 'music_department', 'set_decorator',\n",
       "       'costume_designer', 'art_director', 'talent_agent',\n",
       "       'casting_department', 'transportation_department', 'executive',\n",
       "       'manager', 'publicist', 'legal', 'assistant',\n",
       "       'production_department'], dtype=object)"
      ]
     },
     "execution_count": 346,
     "metadata": {},
     "output_type": "execute_result"
    }
   ],
   "source": [
    "movies.primaryProfession.unique()"
   ]
  },
  {
   "cell_type": "markdown",
   "metadata": {},
   "source": [
    "No missing or invalid value in this attribute."
   ]
  },
  {
   "cell_type": "markdown",
   "metadata": {},
   "source": [
    "### `titleType`"
   ]
  },
  {
   "cell_type": "code",
   "execution_count": 347,
   "metadata": {},
   "outputs": [
    {
     "data": {
      "text/plain": [
       "0"
      ]
     },
     "execution_count": 347,
     "metadata": {},
     "output_type": "execute_result"
    }
   ],
   "source": [
    "movies.titleType.isna().sum()"
   ]
  },
  {
   "cell_type": "code",
   "execution_count": 348,
   "metadata": {},
   "outputs": [
    {
     "data": {
      "text/plain": [
       "movie      9293662\n",
       "tvMovie     239515\n",
       "Name: titleType, dtype: int64"
      ]
     },
     "execution_count": 348,
     "metadata": {},
     "output_type": "execute_result"
    }
   ],
   "source": [
    "movies.titleType.value_counts()"
   ]
  },
  {
   "cell_type": "markdown",
   "metadata": {},
   "source": [
    "There aren't any invalid or missing entries for this attribute. There is a strong class imbalance which may lead to the suppression of this attribute but the information given may worth to keep it for now."
   ]
  },
  {
   "cell_type": "markdown",
   "metadata": {},
   "source": [
    "### `primaryTitle` / `originalTitle`"
   ]
  },
  {
   "cell_type": "code",
   "execution_count": 349,
   "metadata": {},
   "outputs": [
    {
     "name": "stdout",
     "output_type": "stream",
     "text": [
      "movies.primaryTitle.isna().sum()=0\n",
      "movies.primaryTitle.nunique()=127216\n"
     ]
    }
   ],
   "source": [
    "print(f'{movies.primaryTitle.isna().sum()=}')\n",
    "print(f'{movies.primaryTitle.nunique()=}')"
   ]
  },
  {
   "cell_type": "code",
   "execution_count": 350,
   "metadata": {},
   "outputs": [
    {
     "name": "stdout",
     "output_type": "stream",
     "text": [
      "movies.originalTitle.isna().sum()=0\n",
      "movies.originalTitle.nunique()=132426\n"
     ]
    }
   ],
   "source": [
    "print(f'{movies.originalTitle.isna().sum()=}')\n",
    "print(f'{movies.originalTitle.nunique()=}')"
   ]
  },
  {
   "cell_type": "markdown",
   "metadata": {},
   "source": [
    "Very similar attributes with no missing values and almost the same number of unique values. We compare the two element-wise with the main title variable."
   ]
  },
  {
   "cell_type": "markdown",
   "metadata": {},
   "source": [
    "### `title`"
   ]
  },
  {
   "cell_type": "code",
   "execution_count": 351,
   "metadata": {},
   "outputs": [
    {
     "name": "stdout",
     "output_type": "stream",
     "text": [
      "movies.title.isna().sum()=0\n",
      "movies.title.nunique()=151466\n"
     ]
    }
   ],
   "source": [
    "print(f'{movies.title.isna().sum()=}')\n",
    "print(f'{movies.title.nunique()=}')"
   ]
  },
  {
   "cell_type": "code",
   "execution_count": 352,
   "metadata": {},
   "outputs": [
    {
     "data": {
      "text/plain": [
       "0.7136018768979113"
      ]
     },
     "execution_count": 352,
     "metadata": {},
     "output_type": "execute_result"
    }
   ],
   "source": [
    "movies.primaryTitle.eq(movies.title).sum()/movies.shape[0]"
   ]
  },
  {
   "cell_type": "code",
   "execution_count": 353,
   "metadata": {},
   "outputs": [
    {
     "data": {
      "text/plain": [
       "0.5704457181483151"
      ]
     },
     "execution_count": 353,
     "metadata": {},
     "output_type": "execute_result"
    }
   ],
   "source": [
    "movies.originalTitle.eq(movies.title).sum()/movies.shape[0]"
   ]
  },
  {
   "cell_type": "markdown",
   "metadata": {},
   "source": [
    "71% and 57% of similarity between the variables is a lot of correlation. These variables convey the same information. Only one should be kept. As title has more unique entries (with no missing values), we'll keep this one. Note: isOriginalTitle is linked with originalTitle. "
   ]
  },
  {
   "cell_type": "markdown",
   "metadata": {},
   "source": [
    "### `isAdult`"
   ]
  },
  {
   "cell_type": "code",
   "execution_count": 354,
   "metadata": {},
   "outputs": [
    {
     "data": {
      "text/plain": [
       "0"
      ]
     },
     "execution_count": 354,
     "metadata": {},
     "output_type": "execute_result"
    }
   ],
   "source": [
    "movies.isAdult.isna().sum()"
   ]
  },
  {
   "cell_type": "code",
   "execution_count": 355,
   "metadata": {},
   "outputs": [
    {
     "data": {
      "text/plain": [
       "0    9470917\n",
       "1      62260\n",
       "Name: isAdult, dtype: int64"
      ]
     },
     "execution_count": 355,
     "metadata": {},
     "output_type": "execute_result"
    }
   ],
   "source": [
    "movies.isAdult.value_counts()"
   ]
  },
  {
   "cell_type": "markdown",
   "metadata": {},
   "source": [
    "No invalid or missing entries but a strong class imbalance. However, the given information may be considered by the miner depending on his study."
   ]
  },
  {
   "cell_type": "markdown",
   "metadata": {},
   "source": [
    "### `startYear`"
   ]
  },
  {
   "cell_type": "code",
   "execution_count": 356,
   "metadata": {},
   "outputs": [
    {
     "data": {
      "text/html": [
       "<div>\n",
       "<style scoped>\n",
       "    .dataframe tbody tr th:only-of-type {\n",
       "        vertical-align: middle;\n",
       "    }\n",
       "\n",
       "    .dataframe tbody tr th {\n",
       "        vertical-align: top;\n",
       "    }\n",
       "\n",
       "    .dataframe thead th {\n",
       "        text-align: right;\n",
       "    }\n",
       "</style>\n",
       "<table border=\"1\" class=\"dataframe\">\n",
       "  <thead>\n",
       "    <tr style=\"text-align: right;\">\n",
       "      <th></th>\n",
       "      <th>title</th>\n",
       "      <th>startYear</th>\n",
       "    </tr>\n",
       "  </thead>\n",
       "  <tbody>\n",
       "    <tr>\n",
       "      <th>831706</th>\n",
       "      <td>The Money (1976)</td>\n",
       "      <td>NaN</td>\n",
       "    </tr>\n",
       "    <tr>\n",
       "      <th>831707</th>\n",
       "      <td>Atlantic City Jackpot</td>\n",
       "      <td>NaN</td>\n",
       "    </tr>\n",
       "    <tr>\n",
       "      <th>5162699</th>\n",
       "      <td>Samhain</td>\n",
       "      <td>NaN</td>\n",
       "    </tr>\n",
       "    <tr>\n",
       "      <th>7246798</th>\n",
       "      <td>As Words Breathe</td>\n",
       "      <td>NaN</td>\n",
       "    </tr>\n",
       "    <tr>\n",
       "      <th>7494776</th>\n",
       "      <td>Untitled Chris Black Project</td>\n",
       "      <td>NaN</td>\n",
       "    </tr>\n",
       "    <tr>\n",
       "      <th>7494777</th>\n",
       "      <td>Reckless</td>\n",
       "      <td>NaN</td>\n",
       "    </tr>\n",
       "    <tr>\n",
       "      <th>9026410</th>\n",
       "      <td>Cool as Hell 2</td>\n",
       "      <td>NaN</td>\n",
       "    </tr>\n",
       "    <tr>\n",
       "      <th>9483594</th>\n",
       "      <td>Patriot Acts</td>\n",
       "      <td>NaN</td>\n",
       "    </tr>\n",
       "  </tbody>\n",
       "</table>\n",
       "</div>"
      ],
      "text/plain": [
       "                                title  startYear\n",
       "831706               The Money (1976)        NaN\n",
       "831707          Atlantic City Jackpot        NaN\n",
       "5162699                       Samhain        NaN\n",
       "7246798              As Words Breathe        NaN\n",
       "7494776  Untitled Chris Black Project        NaN\n",
       "7494777                      Reckless        NaN\n",
       "9026410                Cool as Hell 2        NaN\n",
       "9483594                  Patriot Acts        NaN"
      ]
     },
     "execution_count": 356,
     "metadata": {},
     "output_type": "execute_result"
    }
   ],
   "source": [
    "movies.loc[movies.startYear.isna(), :][['title', 'startYear']].drop_duplicates()"
   ]
  },
  {
   "cell_type": "code",
   "execution_count": 357,
   "metadata": {},
   "outputs": [
    {
     "data": {
      "text/plain": [
       "count    9.532977e+06\n",
       "mean     2.001254e+03\n",
       "std      1.933296e+01\n",
       "min      1.906000e+03\n",
       "25%      1.995000e+03\n",
       "50%      2.008000e+03\n",
       "75%      2.015000e+03\n",
       "max      2.021000e+03\n",
       "Name: startYear, dtype: float64"
      ]
     },
     "execution_count": 357,
     "metadata": {},
     "output_type": "execute_result"
    }
   ],
   "source": [
    "movies.startYear.describe()"
   ]
  },
  {
   "cell_type": "code",
   "execution_count": 358,
   "metadata": {},
   "outputs": [
    {
     "name": "stdout",
     "output_type": "stream",
     "text": [
      "movies.startYear.min()=1906.0\n",
      "movies.startYear.max()=2021.0\n"
     ]
    }
   ],
   "source": [
    "print(f'{movies.startYear.min()=}')\n",
    "print(f'{movies.startYear.max()=}')"
   ]
  },
  {
   "cell_type": "markdown",
   "metadata": {},
   "source": [
    "No invalid attributes as the range is correct. 7 movies have empty startYear values, this small amount can be deleted, for the movie The Money (1976) we can fill the value."
   ]
  },
  {
   "cell_type": "markdown",
   "metadata": {},
   "source": [
    "### `endYear`"
   ]
  },
  {
   "cell_type": "code",
   "execution_count": 359,
   "metadata": {},
   "outputs": [
    {
     "data": {
      "text/plain": [
       "1.0"
      ]
     },
     "execution_count": 359,
     "metadata": {},
     "output_type": "execute_result"
    }
   ],
   "source": [
    "movies.endYear.isna().sum()/movies.shape[0]"
   ]
  },
  {
   "cell_type": "markdown",
   "metadata": {},
   "source": [
    "All the values are missing for this attribute. It must be deleted as it doesn't bring any information."
   ]
  },
  {
   "cell_type": "markdown",
   "metadata": {},
   "source": [
    "### `runtimeMinutes`"
   ]
  },
  {
   "cell_type": "code",
   "execution_count": 360,
   "metadata": {},
   "outputs": [
    {
     "name": "stdout",
     "output_type": "stream",
     "text": [
      "movies.runtimeMinutes.isna().sum()=180896\n",
      "movies.runtimeMinutes.min()=6.0\n",
      "movies.runtimeMinutes.max()=5220.0\n"
     ]
    }
   ],
   "source": [
    "print(f'{movies.runtimeMinutes.isna().sum()=}')\n",
    "\n",
    "print(f'{movies.runtimeMinutes.min()=}')\n",
    "print(f'{movies.runtimeMinutes.max()=}')"
   ]
  },
  {
   "cell_type": "markdown",
   "metadata": {},
   "source": [
    "The are some missing values and the range is too wide. As this variable is very important it would be interesting to substitute its missing or invalid values."
   ]
  },
  {
   "cell_type": "code",
   "execution_count": 361,
   "metadata": {},
   "outputs": [],
   "source": [
    "scores = np.abs(zscore(movies.runtimeMinutes, nan_policy='omit'))"
   ]
  },
  {
   "cell_type": "code",
   "execution_count": 362,
   "metadata": {},
   "outputs": [
    {
     "data": {
      "text/plain": [
       "0.9807792302608039"
      ]
     },
     "execution_count": 362,
     "metadata": {},
     "output_type": "execute_result"
    }
   ],
   "source": [
    "(scores<10).mean()"
   ]
  },
  {
   "cell_type": "code",
   "execution_count": 363,
   "metadata": {},
   "outputs": [
    {
     "data": {
      "image/png": "[encoded data removed]",
      "text/plain": [
       "<Figure size 432x288 with 1 Axes>"
      ]
     },
     "metadata": {
      "needs_background": "light"
     },
     "output_type": "display_data"
    }
   ],
   "source": [
    "plt.hist(movies.runtimeMinutes[scores<10], bins=50)\n",
    "plt.show()"
   ]
  },
  {
   "cell_type": "markdown",
   "metadata": {},
   "source": [
    "We identify outliers by computing the z-score. The entries with a too high z-score are omitted (z>10). Using z-score assumes normal distribution of the variable. We can validate this hypothesis afterward with the ditribution plot. These omitted values represent less than 2% of the entries which isn't a big ratio. We replace these values with the median as this replacement method is less sensitive to the distribution and the remaining extreme values."
   ]
  },
  {
   "cell_type": "markdown",
   "metadata": {},
   "source": [
    "### `genres`"
   ]
  },
  {
   "cell_type": "code",
   "execution_count": 364,
   "metadata": {},
   "outputs": [
    {
     "data": {
      "text/plain": [
       "0.0017653086688729266"
      ]
     },
     "execution_count": 364,
     "metadata": {},
     "output_type": "execute_result"
    }
   ],
   "source": [
    "movies.genres.isna().sum()/movies.shape[0]"
   ]
  },
  {
   "cell_type": "code",
   "execution_count": 365,
   "metadata": {},
   "outputs": [
    {
     "data": {
      "text/html": [
       "<div>\n",
       "<style scoped>\n",
       "    .dataframe tbody tr th:only-of-type {\n",
       "        vertical-align: middle;\n",
       "    }\n",
       "\n",
       "    .dataframe tbody tr th {\n",
       "        vertical-align: top;\n",
       "    }\n",
       "\n",
       "    .dataframe thead th {\n",
       "        text-align: right;\n",
       "    }\n",
       "</style>\n",
       "<table border=\"1\" class=\"dataframe\">\n",
       "  <thead>\n",
       "    <tr style=\"text-align: right;\">\n",
       "      <th></th>\n",
       "      <th>title</th>\n",
       "      <th>genres</th>\n",
       "    </tr>\n",
       "  </thead>\n",
       "  <tbody>\n",
       "    <tr>\n",
       "      <th>169</th>\n",
       "      <td>The Infant at Snakeville</td>\n",
       "      <td>NaN</td>\n",
       "    </tr>\n",
       "    <tr>\n",
       "      <th>294</th>\n",
       "      <td>As You Like It</td>\n",
       "      <td>NaN</td>\n",
       "    </tr>\n",
       "    <tr>\n",
       "      <th>1328</th>\n",
       "      <td>A Venetian Night</td>\n",
       "      <td>NaN</td>\n",
       "    </tr>\n",
       "    <tr>\n",
       "      <th>1331</th>\n",
       "      <td>When the Earth Trembled</td>\n",
       "      <td>NaN</td>\n",
       "    </tr>\n",
       "    <tr>\n",
       "      <th>1332</th>\n",
       "      <td>When the Earth Trembled or the Power of Love</td>\n",
       "      <td>NaN</td>\n",
       "    </tr>\n",
       "    <tr>\n",
       "      <th>...</th>\n",
       "      <td>...</td>\n",
       "      <td>...</td>\n",
       "    </tr>\n",
       "    <tr>\n",
       "      <th>9500687</th>\n",
       "      <td>Music Hole</td>\n",
       "      <td>NaN</td>\n",
       "    </tr>\n",
       "    <tr>\n",
       "      <th>9508283</th>\n",
       "      <td>Zombie Universe 2</td>\n",
       "      <td>NaN</td>\n",
       "    </tr>\n",
       "    <tr>\n",
       "      <th>9511508</th>\n",
       "      <td>Little Wound's Warriors</td>\n",
       "      <td>NaN</td>\n",
       "    </tr>\n",
       "    <tr>\n",
       "      <th>9512400</th>\n",
       "      <td>Full Gas</td>\n",
       "      <td>NaN</td>\n",
       "    </tr>\n",
       "    <tr>\n",
       "      <th>9513908</th>\n",
       "      <td>The Cat in Their Arms</td>\n",
       "      <td>NaN</td>\n",
       "    </tr>\n",
       "  </tbody>\n",
       "</table>\n",
       "<p>2093 rows × 2 columns</p>\n",
       "</div>"
      ],
      "text/plain": [
       "                                                title genres\n",
       "169                          The Infant at Snakeville    NaN\n",
       "294                                    As You Like It    NaN\n",
       "1328                                 A Venetian Night    NaN\n",
       "1331                          When the Earth Trembled    NaN\n",
       "1332     When the Earth Trembled or the Power of Love    NaN\n",
       "...                                               ...    ...\n",
       "9500687                                    Music Hole    NaN\n",
       "9508283                             Zombie Universe 2    NaN\n",
       "9511508                       Little Wound's Warriors    NaN\n",
       "9512400                                      Full Gas    NaN\n",
       "9513908                         The Cat in Their Arms    NaN\n",
       "\n",
       "[2093 rows x 2 columns]"
      ]
     },
     "execution_count": 365,
     "metadata": {},
     "output_type": "execute_result"
    }
   ],
   "source": [
    "movies.loc[movies.genres.isna(), ['title', 'genres']].drop_duplicates()"
   ]
  },
  {
   "cell_type": "code",
   "execution_count": 366,
   "metadata": {},
   "outputs": [
    {
     "data": {
      "text/plain": [
       "Drama        2009167\n",
       "Comedy       1343761\n",
       "Action       1143471\n",
       "Adventure     718616\n",
       "Thriller      631203\n",
       "Crime         589182\n",
       "Romance       557157\n",
       "Horror        528519\n",
       "Sci-Fi        398025\n",
       "Mystery       273825\n",
       "Name: genres, dtype: int64"
      ]
     },
     "execution_count": 366,
     "metadata": {},
     "output_type": "execute_result"
    }
   ],
   "source": [
    "movies.genres.value_counts().head(10)"
   ]
  },
  {
   "cell_type": "markdown",
   "metadata": {},
   "source": [
    "There are 2094 movies with missing genres. It represents less than 0.2% of the dataset. There isn't any simple way of giving a genre so we would prefer to remove these values. All the other entries are valid."
   ]
  },
  {
   "cell_type": "markdown",
   "metadata": {},
   "source": [
    "### `ordering`"
   ]
  },
  {
   "cell_type": "code",
   "execution_count": 367,
   "metadata": {},
   "outputs": [
    {
     "data": {
      "text/plain": [
       "0"
      ]
     },
     "execution_count": 367,
     "metadata": {},
     "output_type": "execute_result"
    }
   ],
   "source": [
    "movies.ordering.isna().sum()"
   ]
  },
  {
   "cell_type": "code",
   "execution_count": 368,
   "metadata": {},
   "outputs": [
    {
     "data": {
      "image/png": "[encoded data removed]",
      "text/plain": [
       "<Figure size 432x288 with 1 Axes>"
      ]
     },
     "metadata": {
      "needs_background": "light"
     },
     "output_type": "display_data"
    }
   ],
   "source": [
    "plt.hist(movies.ordering, bins = 30)\n",
    "plt.show()"
   ]
  },
  {
   "cell_type": "markdown",
   "metadata": {},
   "source": [
    "By looking at the distribution not any sample seems to be an outlier. There aren't any missing entries for this attribute."
   ]
  },
  {
   "cell_type": "markdown",
   "metadata": {},
   "source": [
    "### `region`"
   ]
  },
  {
   "cell_type": "code",
   "execution_count": 369,
   "metadata": {},
   "outputs": [
    {
     "data": {
      "text/plain": [
       "US    9533177\n",
       "Name: region, dtype: int64"
      ]
     },
     "execution_count": 369,
     "metadata": {},
     "output_type": "execute_result"
    }
   ],
   "source": [
    "movies.region.value_counts()"
   ]
  },
  {
   "cell_type": "markdown",
   "metadata": {},
   "source": [
    "Only one distinct value and there isn't any missing entries. This entry don't give any information. "
   ]
  },
  {
   "cell_type": "markdown",
   "metadata": {},
   "source": [
    "### `language`"
   ]
  },
  {
   "cell_type": "code",
   "execution_count": 370,
   "metadata": {},
   "outputs": [
    {
     "data": {
      "text/plain": [
       "0.9827048212783629"
      ]
     },
     "execution_count": 370,
     "metadata": {},
     "output_type": "execute_result"
    }
   ],
   "source": [
    "movies.language.isna().sum()/movies.shape[0]"
   ]
  },
  {
   "cell_type": "code",
   "execution_count": 371,
   "metadata": {},
   "outputs": [
    {
     "data": {
      "text/plain": [
       "en     139873\n",
       "es      23256\n",
       "yi       1317\n",
       "haw       324\n",
       "hi        108\n",
       "Name: language, dtype: int64"
      ]
     },
     "execution_count": 371,
     "metadata": {},
     "output_type": "execute_result"
    }
   ],
   "source": [
    "movies.language.value_counts()"
   ]
  },
  {
   "cell_type": "markdown",
   "metadata": {},
   "source": [
    "With more than 98% of missing entries, this attribute can't be used."
   ]
  },
  {
   "cell_type": "markdown",
   "metadata": {},
   "source": [
    "### `types`"
   ]
  },
  {
   "cell_type": "code",
   "execution_count": 372,
   "metadata": {},
   "outputs": [
    {
     "data": {
      "text/plain": [
       "0.15604609040616785"
      ]
     },
     "execution_count": 372,
     "metadata": {},
     "output_type": "execute_result"
    }
   ],
   "source": [
    "movies.types.isna().sum()/movies.shape[0]"
   ]
  },
  {
   "cell_type": "code",
   "execution_count": 373,
   "metadata": {},
   "outputs": [
    {
     "data": {
      "text/plain": [
       "imdbDisplay         6419666\n",
       "working             1184169\n",
       "alternative          255744\n",
       "dvd                   69574\n",
       "video                 64366\n",
       "festival              28002\n",
       "tv                    22637\n",
       "original                450\n",
       "video\u0002working           321\n",
       "tv\u0002working              232\n",
       "tv\u0002video                176\n",
       "festival\u0002working        147\n",
       "dvd\u0002video                78\n",
       "Name: types, dtype: int64"
      ]
     },
     "execution_count": 373,
     "metadata": {},
     "output_type": "execute_result"
    }
   ],
   "source": [
    "movies.types.value_counts()"
   ]
  },
  {
   "cell_type": "markdown",
   "metadata": {},
   "source": [
    "There are around 16% or entries missing for this attribute. There is a strong class imbalance in this attribute so it may be possible to replace by the mode imbdDisplay. As it adds bias to the dataset, it can be unappropriate to replace these values, we assume that the purpose of the further study won't be mainly focused on the types attribute. "
   ]
  },
  {
   "cell_type": "markdown",
   "metadata": {},
   "source": [
    "### `attributes`"
   ]
  },
  {
   "cell_type": "code",
   "execution_count": 374,
   "metadata": {},
   "outputs": [
    {
     "data": {
      "text/plain": [
       "0.8847884603422342"
      ]
     },
     "execution_count": 374,
     "metadata": {},
     "output_type": "execute_result"
    }
   ],
   "source": [
    "movies.attributes.isna().sum()/movies.shape[0]"
   ]
  },
  {
   "cell_type": "markdown",
   "metadata": {},
   "source": [
    "With more than 88% percent of missing values this attribute can't be used for data mining. "
   ]
  },
  {
   "cell_type": "markdown",
   "metadata": {},
   "source": [
    "### `averageRating`"
   ]
  },
  {
   "cell_type": "code",
   "execution_count": 375,
   "metadata": {},
   "outputs": [
    {
     "name": "stdout",
     "output_type": "stream",
     "text": [
      "movies.averageRating.isna().sum()=0\n",
      "movies.averageRating.min()=1.0\n",
      "movies.averageRating.max()=10.0\n"
     ]
    },
    {
     "data": {
      "image/png": "[encoded data removed]",
      "text/plain": [
       "<Figure size 432x288 with 1 Axes>"
      ]
     },
     "metadata": {
      "needs_background": "light"
     },
     "output_type": "display_data"
    }
   ],
   "source": [
    "print(f'{movies.averageRating.isna().sum()=}')\n",
    "\n",
    "print(f'{movies.averageRating.min()=}')\n",
    "print(f'{movies.averageRating.max()=}')\n",
    "\n",
    "plt.hist(movies.averageRating, bins=30)\n",
    "plt.show()"
   ]
  },
  {
   "cell_type": "markdown",
   "metadata": {},
   "source": [
    "Values of the attribute are in the right range [0-10]. With no missing values."
   ]
  },
  {
   "cell_type": "markdown",
   "metadata": {},
   "source": [
    "### `numVotes`"
   ]
  },
  {
   "cell_type": "code",
   "execution_count": 376,
   "metadata": {},
   "outputs": [
    {
     "name": "stdout",
     "output_type": "stream",
     "text": [
      "movies.numVotes.isna().sum()=0\n",
      "movies.numVotes.min()=5\n",
      "movies.numVotes.max()=2479369\n"
     ]
    },
    {
     "data": {
      "image/png": "[encoded data removed]",
      "text/plain": [
       "<Figure size 432x288 with 1 Axes>"
      ]
     },
     "metadata": {
      "needs_background": "light"
     },
     "output_type": "display_data"
    }
   ],
   "source": [
    "print(f'{movies.numVotes.isna().sum()=}')\n",
    "\n",
    "print(f'{movies.numVotes.min()=}')\n",
    "print(f'{movies.numVotes.max()=}')\n",
    "\n",
    "plt.hist(movies.numVotes, bins=30)\n",
    "plt.show()"
   ]
  },
  {
   "cell_type": "code",
   "execution_count": 377,
   "metadata": {},
   "outputs": [
    {
     "data": {
      "text/html": [
       "<div>\n",
       "<style scoped>\n",
       "    .dataframe tbody tr th:only-of-type {\n",
       "        vertical-align: middle;\n",
       "    }\n",
       "\n",
       "    .dataframe tbody tr th {\n",
       "        vertical-align: top;\n",
       "    }\n",
       "\n",
       "    .dataframe thead th {\n",
       "        text-align: right;\n",
       "    }\n",
       "</style>\n",
       "<table border=\"1\" class=\"dataframe\">\n",
       "  <thead>\n",
       "    <tr style=\"text-align: right;\">\n",
       "      <th></th>\n",
       "      <th>numVotes</th>\n",
       "      <th>title</th>\n",
       "    </tr>\n",
       "  </thead>\n",
       "  <tbody>\n",
       "    <tr>\n",
       "      <th>2041747</th>\n",
       "      <td>2479369</td>\n",
       "      <td>The Shawshank Redemption</td>\n",
       "    </tr>\n",
       "    <tr>\n",
       "      <th>2041572</th>\n",
       "      <td>2479369</td>\n",
       "      <td>Rita Hayworth and Shawshank Redemption</td>\n",
       "    </tr>\n",
       "    <tr>\n",
       "      <th>4500618</th>\n",
       "      <td>2433653</td>\n",
       "      <td>Batman Begins 2</td>\n",
       "    </tr>\n",
       "    <tr>\n",
       "      <th>4500557</th>\n",
       "      <td>2433653</td>\n",
       "      <td>Rory's First Kiss</td>\n",
       "    </tr>\n",
       "    <tr>\n",
       "      <th>4500619</th>\n",
       "      <td>2433653</td>\n",
       "      <td>The Dark Knight: The IMAX Experience</td>\n",
       "    </tr>\n",
       "    <tr>\n",
       "      <th>4500620</th>\n",
       "      <td>2433653</td>\n",
       "      <td>The Dark Knight</td>\n",
       "    </tr>\n",
       "    <tr>\n",
       "      <th>4500558</th>\n",
       "      <td>2433653</td>\n",
       "      <td>Batman: The Dark Knight</td>\n",
       "    </tr>\n",
       "    <tr>\n",
       "      <th>4500559</th>\n",
       "      <td>2433653</td>\n",
       "      <td>Untitled Batman Begins Sequel</td>\n",
       "    </tr>\n",
       "    <tr>\n",
       "      <th>4500560</th>\n",
       "      <td>2433653</td>\n",
       "      <td>Winter Green</td>\n",
       "    </tr>\n",
       "    <tr>\n",
       "      <th>5921153</th>\n",
       "      <td>2183856</td>\n",
       "      <td>Inception: The IMAX Experience</td>\n",
       "    </tr>\n",
       "  </tbody>\n",
       "</table>\n",
       "</div>"
      ],
      "text/plain": [
       "         numVotes                                   title\n",
       "2041747   2479369                The Shawshank Redemption\n",
       "2041572   2479369  Rita Hayworth and Shawshank Redemption\n",
       "4500618   2433653                         Batman Begins 2\n",
       "4500557   2433653                       Rory's First Kiss\n",
       "4500619   2433653    The Dark Knight: The IMAX Experience\n",
       "4500620   2433653                         The Dark Knight\n",
       "4500558   2433653                 Batman: The Dark Knight\n",
       "4500559   2433653           Untitled Batman Begins Sequel\n",
       "4500560   2433653                            Winter Green\n",
       "5921153   2183856          Inception: The IMAX Experience"
      ]
     },
     "execution_count": 377,
     "metadata": {},
     "output_type": "execute_result"
    }
   ],
   "source": [
    "movies.sort_values('numVotes', ascending=False)[['numVotes', 'title']].drop_duplicates().head(10)"
   ]
  },
  {
   "cell_type": "markdown",
   "metadata": {},
   "source": [
    "The range of the attribute seems correct (only positive values and the one with the most votes are popular). No missing values."
   ]
  },
  {
   "cell_type": "markdown",
   "metadata": {},
   "source": [
    "# Replacement and column removal"
   ]
  },
  {
   "cell_type": "code",
   "execution_count": 378,
   "metadata": {},
   "outputs": [],
   "source": [
    "out = movies.copy().drop(\n",
    "        ['birthYear', 'deathYear', 'primaryTitle', 'originalTitle', 'isOriginalTitle', 'endYear', 'region', 'language', 'attributes'],\n",
    "        axis=1\n",
    "    )"
   ]
  },
  {
   "cell_type": "code",
   "execution_count": 379,
   "metadata": {},
   "outputs": [],
   "source": [
    "out.loc[out.title == \"The Money (1976)\", 'startYear'] = 1976\n",
    "out.loc[out.title == \"Samhain\", 'startYear'] = 2020\n",
    "out.loc[out.title == \"As Words Breath\", 'startYear'] = 2018\n",
    "out.loc[out.title == \"Reckless\", 'startYear'] = 1984\n",
    "out.loc[out.title == \"Cool as Hell 2\", 'startYear'] = 2019\n",
    "out.loc[out.title == \"Patriot Acts\", 'startYear'] = 2004\n",
    "out.loc[out.title == \"Atlantic City Jackpot\", 'startYear'] = 1976\n",
    "\n",
    "out.loc[out.types.isna(), 'types'] = 'imbdDisplay'\n",
    "\n",
    "out = out.dropna(axis=0, subset= ['startYear'])\n",
    "out = out.dropna(axis=0, subset= ['genres'])\n",
    "\n",
    "out.loc[ np.abs(zscore(out.runtimeMinutes, nan_policy='omit')) >10, 'runtimeMinutes'] = np.nan\n",
    "out.loc[out.runtimeMinutes.isna(), 'runtimeMinutes'] = np.nanquantile(out.runtimeMinutes.values, .5)"
   ]
  },
  {
   "cell_type": "code",
   "execution_count": 380,
   "metadata": {},
   "outputs": [],
   "source": [
    "out.reset_index(drop=True, inplace=True)"
   ]
  },
  {
   "cell_type": "code",
   "execution_count": 381,
   "metadata": {},
   "outputs": [
    {
     "data": {
      "text/html": [
       "<div>\n",
       "<style scoped>\n",
       "    .dataframe tbody tr th:only-of-type {\n",
       "        vertical-align: middle;\n",
       "    }\n",
       "\n",
       "    .dataframe tbody tr th {\n",
       "        vertical-align: top;\n",
       "    }\n",
       "\n",
       "    .dataframe thead th {\n",
       "        text-align: right;\n",
       "    }\n",
       "</style>\n",
       "<table border=\"1\" class=\"dataframe\">\n",
       "  <thead>\n",
       "    <tr style=\"text-align: right;\">\n",
       "      <th></th>\n",
       "      <th>tconst</th>\n",
       "      <th>nconst</th>\n",
       "      <th>primaryName</th>\n",
       "      <th>primaryProfession</th>\n",
       "      <th>titleType</th>\n",
       "      <th>isAdult</th>\n",
       "      <th>startYear</th>\n",
       "      <th>runtimeMinutes</th>\n",
       "      <th>genres</th>\n",
       "      <th>ordering</th>\n",
       "      <th>title</th>\n",
       "      <th>types</th>\n",
       "      <th>averageRating</th>\n",
       "      <th>numVotes</th>\n",
       "    </tr>\n",
       "  </thead>\n",
       "  <tbody>\n",
       "    <tr>\n",
       "      <th>0</th>\n",
       "      <td>tt0000574</td>\n",
       "      <td>nm0143899</td>\n",
       "      <td>Godfrey Cass</td>\n",
       "      <td>actor</td>\n",
       "      <td>movie</td>\n",
       "      <td>0</td>\n",
       "      <td>1906.0</td>\n",
       "      <td>70.0</td>\n",
       "      <td>Action</td>\n",
       "      <td>6</td>\n",
       "      <td>The Story of the Kelly Gang</td>\n",
       "      <td>imdbDisplay</td>\n",
       "      <td>6.1</td>\n",
       "      <td>735</td>\n",
       "    </tr>\n",
       "    <tr>\n",
       "      <th>1</th>\n",
       "      <td>tt0000574</td>\n",
       "      <td>nm0143899</td>\n",
       "      <td>Godfrey Cass</td>\n",
       "      <td>actor</td>\n",
       "      <td>movie</td>\n",
       "      <td>0</td>\n",
       "      <td>1906.0</td>\n",
       "      <td>70.0</td>\n",
       "      <td>Adventure</td>\n",
       "      <td>6</td>\n",
       "      <td>The Story of the Kelly Gang</td>\n",
       "      <td>imdbDisplay</td>\n",
       "      <td>6.1</td>\n",
       "      <td>735</td>\n",
       "    </tr>\n",
       "    <tr>\n",
       "      <th>2</th>\n",
       "      <td>tt0000574</td>\n",
       "      <td>nm0143899</td>\n",
       "      <td>Godfrey Cass</td>\n",
       "      <td>actor</td>\n",
       "      <td>movie</td>\n",
       "      <td>0</td>\n",
       "      <td>1906.0</td>\n",
       "      <td>70.0</td>\n",
       "      <td>Biography</td>\n",
       "      <td>6</td>\n",
       "      <td>The Story of the Kelly Gang</td>\n",
       "      <td>imdbDisplay</td>\n",
       "      <td>6.1</td>\n",
       "      <td>735</td>\n",
       "    </tr>\n",
       "    <tr>\n",
       "      <th>3</th>\n",
       "      <td>tt0000574</td>\n",
       "      <td>nm0170118</td>\n",
       "      <td>Bella Cola</td>\n",
       "      <td>actress</td>\n",
       "      <td>movie</td>\n",
       "      <td>0</td>\n",
       "      <td>1906.0</td>\n",
       "      <td>70.0</td>\n",
       "      <td>Action</td>\n",
       "      <td>6</td>\n",
       "      <td>The Story of the Kelly Gang</td>\n",
       "      <td>imdbDisplay</td>\n",
       "      <td>6.1</td>\n",
       "      <td>735</td>\n",
       "    </tr>\n",
       "    <tr>\n",
       "      <th>4</th>\n",
       "      <td>tt0000574</td>\n",
       "      <td>nm0170118</td>\n",
       "      <td>Bella Cola</td>\n",
       "      <td>actress</td>\n",
       "      <td>movie</td>\n",
       "      <td>0</td>\n",
       "      <td>1906.0</td>\n",
       "      <td>70.0</td>\n",
       "      <td>Adventure</td>\n",
       "      <td>6</td>\n",
       "      <td>The Story of the Kelly Gang</td>\n",
       "      <td>imdbDisplay</td>\n",
       "      <td>6.1</td>\n",
       "      <td>735</td>\n",
       "    </tr>\n",
       "  </tbody>\n",
       "</table>\n",
       "</div>"
      ],
      "text/plain": [
       "      tconst     nconst   primaryName primaryProfession titleType  isAdult  \\\n",
       "0  tt0000574  nm0143899  Godfrey Cass             actor     movie        0   \n",
       "1  tt0000574  nm0143899  Godfrey Cass             actor     movie        0   \n",
       "2  tt0000574  nm0143899  Godfrey Cass             actor     movie        0   \n",
       "3  tt0000574  nm0170118    Bella Cola           actress     movie        0   \n",
       "4  tt0000574  nm0170118    Bella Cola           actress     movie        0   \n",
       "\n",
       "   startYear  runtimeMinutes     genres  ordering  \\\n",
       "0     1906.0            70.0     Action         6   \n",
       "1     1906.0            70.0  Adventure         6   \n",
       "2     1906.0            70.0  Biography         6   \n",
       "3     1906.0            70.0     Action         6   \n",
       "4     1906.0            70.0  Adventure         6   \n",
       "\n",
       "                         title        types  averageRating  numVotes  \n",
       "0  The Story of the Kelly Gang  imdbDisplay            6.1       735  \n",
       "1  The Story of the Kelly Gang  imdbDisplay            6.1       735  \n",
       "2  The Story of the Kelly Gang  imdbDisplay            6.1       735  \n",
       "3  The Story of the Kelly Gang  imdbDisplay            6.1       735  \n",
       "4  The Story of the Kelly Gang  imdbDisplay            6.1       735  "
      ]
     },
     "execution_count": 381,
     "metadata": {},
     "output_type": "execute_result"
    }
   ],
   "source": [
    "out.head(5)"
   ]
  },
  {
   "cell_type": "markdown",
   "metadata": {},
   "source": [
    "# Normalization"
   ]
  },
  {
   "cell_type": "markdown",
   "metadata": {},
   "source": [
    "## numVotes"
   ]
  },
  {
   "cell_type": "code",
   "execution_count": 396,
   "metadata": {},
   "outputs": [
    {
     "data": {
      "image/png": "[encoded data removed]",
      "text/plain": [
       "<Figure size 432x288 with 1 Axes>"
      ]
     },
     "metadata": {
      "needs_background": "light"
     },
     "output_type": "display_data"
    }
   ],
   "source": [
    "plt.hist(movies.numVotes,bins=30)\n",
    "plt.show()"
   ]
  },
  {
   "cell_type": "markdown",
   "metadata": {},
   "source": [
    "The plot of numVotes appears to be a logarithmic curve, which leads to the choice that this column can be normalized using logarithmic normalization. \n",
    "Like a histogram, this represents the column data as exponential values. Having too many unique values is bad for an algorithim, so this function transforms the data into values that denotes their 'size'. "
   ]
  },
  {
   "cell_type": "code",
   "execution_count": 397,
   "metadata": {},
   "outputs": [
    {
     "data": {
      "image/png": "[encoded data removed]",
      "text/plain": [
       "<Figure size 432x288 with 1 Axes>"
      ]
     },
     "metadata": {
      "needs_background": "light"
     },
     "output_type": "display_data"
    }
   ],
   "source": [
    "out.numVotes = np.log(movies.numVotes)\n",
    "plt.hist(out.numVotes,bins=30)\n",
    "plt.show()"
   ]
  },
  {
   "cell_type": "markdown",
   "metadata": {},
   "source": [
    "The reason for using the log scaling is that as as the number of ratings increases, the relevance of every digit decreases. This allows an algorithm to focus on the overall weight of votes instead of trying to correlate all the unique numbers of votes. \n",
    "Movies with 10-100 votes will have a meaningful difference in the data while 2,464,508 votes versus 2,463,508 will only be a small change. "
   ]
  },
  {
   "cell_type": "markdown",
   "metadata": {
    "tags": []
   },
   "source": [
    "## birthYear / deathYear"
   ]
  },
  {
   "cell_type": "markdown",
   "metadata": {},
   "source": [
    "Birth and death year are categories that are mostly populated with entries within the last century, but there are outliers. The raw data itself would require processing to understand the correlations it may have, so it would be easier to normalize it in a way which best highlights the traits of the dates provided."
   ]
  },
  {
   "cell_type": "code",
   "execution_count": 398,
   "metadata": {},
   "outputs": [
    {
     "data": {
      "image/png": "[encoded data removed]",
      "text/plain": [
       "<Figure size 432x288 with 1 Axes>"
      ]
     },
     "metadata": {
      "needs_background": "light"
     },
     "output_type": "display_data"
    },
    {
     "name": "stdout",
     "output_type": "stream",
     "text": [
      "15 Lowest Birth Year Entries\n",
      "  12.0\n",
      "  12.0\n",
      "  12.0\n",
      "  12.0\n",
      "  21.0\n",
      "  21.0\n",
      "  21.0\n",
      "  21.0\n",
      "  21.0\n",
      "  21.0\n",
      "  21.0\n",
      "  21.0\n",
      "1088.0\n",
      "1088.0\n",
      "1088.0\n"
     ]
    }
   ],
   "source": [
    "out.birthYear = movies.birthYear.copy()\n",
    "plt.hist(out.birthYear,bins=100)\n",
    "plt.show()\n",
    "print(\"15 Lowest Birth Year Entries\")\n",
    "print(out.birthYear.nsmallest(15).to_string(index=False))"
   ]
  },
  {
   "cell_type": "markdown",
   "metadata": {},
   "source": [
    "Printing out the 16 smallest values of birth year, the values below 1800 are outliers and should be adjusted for the normalization. In this case, replacing with the mode ensures every entry still has a birth year, and this should not bias the data in any way as it is only 12 new entries for a value that has 80,000+ representations."
   ]
  },
  {
   "cell_type": "code",
   "execution_count": 399,
   "metadata": {},
   "outputs": [
    {
     "name": "stdout",
     "output_type": "stream",
     "text": [
      "Old out.birthYear.mean()=1952.704510914224\n"
     ]
    },
    {
     "data": {
      "image/png": "[encoded data removed]",
      "text/plain": [
       "<Figure size 432x288 with 1 Axes>"
      ]
     },
     "metadata": {
      "needs_background": "light"
     },
     "output_type": "display_data"
    },
    {
     "name": "stdout",
     "output_type": "stream",
     "text": [
      "New out.birthYear.mean()=1952.7146443330662\n",
      "out.birthYear.min()=1827.0\n"
     ]
    }
   ],
   "source": [
    "print(f\"Old {out.birthYear.mean()=}\")\n",
    "out.birthYear.loc[out.birthYear<1800]=out.birthYear.mode()\n",
    "plt.hist(out.birthYear,bins=100)\n",
    "plt.show()\n",
    "print(f\"New {out.birthYear.mean()=}\")\n",
    "print(f\"{out.birthYear.min()=}\")"
   ]
  },
  {
   "cell_type": "markdown",
   "metadata": {},
   "source": [
    "With the outliers set to the mean, the chart is unchanged along with the mean. The changing of these outliers affected the mean by 0.1 years, which is statistically insignificant and the data should not have been biased in any way by this adjustment."
   ]
  },
  {
   "cell_type": "code",
   "execution_count": 386,
   "metadata": {},
   "outputs": [
    {
     "data": {
      "image/png": "[encoded data removed]",
      "text/plain": [
       "<Figure size 432x288 with 1 Axes>"
      ]
     },
     "metadata": {
      "needs_background": "light"
     },
     "output_type": "display_data"
    },
    {
     "name": "stdout",
     "output_type": "stream",
     "text": [
      "out.birthYear.min()=-4.472800763302281\n",
      "out.birthYear.max()=2.3227873746027594\n"
     ]
    }
   ],
   "source": [
    "out.birthYear = (out.birthYear - out.birthYear.mean()) / (out.birthYear.std())\n",
    "plt.hist(out.birthYear,bins=100)\n",
    "plt.show()\n",
    "print(f\"{out.birthYear.min()=}\")\n",
    "print(f\"{out.birthYear.max()=}\")"
   ]
  },
  {
   "cell_type": "markdown",
   "metadata": {},
   "source": [
    "Because the std dev normalization is mainly concentrated around the -2 to 2 range, this gives meaningful values to the normalization output as older dates are easier to spot if they fall outside the average year of birth. \n",
    "A positive value can correlate to an overall younger actor, as their birth year will be further up in the range of years. \n",
    "This normalization should also be applied to death years, as these two attributes represent similar factors and could confuse an algorithim if the mappings were wildly different"
   ]
  },
  {
   "cell_type": "code",
   "execution_count": 400,
   "metadata": {},
   "outputs": [
    {
     "data": {
      "image/png": "[encoded data removed]",
      "text/plain": [
       "<Figure size 432x288 with 1 Axes>"
      ]
     },
     "metadata": {
      "needs_background": "light"
     },
     "output_type": "display_data"
    },
    {
     "name": "stdout",
     "output_type": "stream",
     "text": [
      "out.deathYear.min()=1569.0\n",
      "out.deathYear.max()=2021.0\n",
      "out.deathYear.std()=22.16091521753601\n"
     ]
    }
   ],
   "source": [
    "out.deathYear = movies.deathYear.copy()\n",
    "plt.hist(out.deathYear,bins=100)\n",
    "plt.show()\n",
    "print(f\"{out.deathYear.min()=}\")\n",
    "print(f\"{out.deathYear.max()=}\")\n",
    "print(f\"{out.deathYear.std()=}\")"
   ]
  },
  {
   "cell_type": "markdown",
   "metadata": {},
   "source": [
    "As noted, the standard deviation is high for this dataset. This is useful when combined with std dev normalizing as it translates the data into information more about the comparison or relationship of a year to the general context. An actor who died in the 1600's had a very different expereince than those who passed recently, thus this comparison highlights these factors."
   ]
  },
  {
   "cell_type": "code",
   "execution_count": 388,
   "metadata": {},
   "outputs": [
    {
     "data": {
      "image/png": "[encoded data removed]",
      "text/plain": [
       "<Figure size 432x288 with 1 Axes>"
      ]
     },
     "metadata": {
      "needs_background": "light"
     },
     "output_type": "display_data"
    }
   ],
   "source": [
    "out.deathYear= (out.deathYear - out.deathYear.mean()) / (out.deathYear.std())\n",
    "plt.hist(out.deathYear,bins=100)\n",
    "plt.show()"
   ]
  },
  {
   "cell_type": "markdown",
   "metadata": {},
   "source": [
    "The std dev normalization is even more apparent here, as the chart of death years is strongly weighted to the right. Similar to the birth years, this gives entries in the 'normal' range a similar output, while less recent death years will appear as a larger statistical variance and can be treated as such."
   ]
  },
  {
   "cell_type": "markdown",
   "metadata": {},
   "source": [
    "## Average Rating"
   ]
  },
  {
   "cell_type": "code",
   "execution_count": 389,
   "metadata": {},
   "outputs": [
    {
     "data": {
      "image/png": "[encoded data removed]",
      "text/plain": [
       "<Figure size 432x288 with 1 Axes>"
      ]
     },
     "metadata": {
      "needs_background": "light"
     },
     "output_type": "display_data"
    }
   ],
   "source": [
    "out.averageRating = movies.averageRating.copy()\n",
    "plt.hist(out.averageRating,bins=50)\n",
    "plt.show()"
   ]
  },
  {
   "cell_type": "markdown",
   "metadata": {},
   "source": [
    "The plot and nature of the data collected means that it will fall within a range of 0-10. Because this attribute is already represented on a linear scale with a defined range, it's best to apply a simple standard normalization to the column"
   ]
  },
  {
   "cell_type": "code",
   "execution_count": 390,
   "metadata": {},
   "outputs": [
    {
     "data": {
      "image/png": "[encoded data removed]",
      "text/plain": [
       "<Figure size 432x288 with 1 Axes>"
      ]
     },
     "metadata": {
      "needs_background": "light"
     },
     "output_type": "display_data"
    }
   ],
   "source": [
    "out.averageRating = (out.averageRating - out.averageRating.min()) / (out.averageRating.max() - out.averageRating.min())\n",
    "plt.hist(out.averageRating,bins=50)\n",
    "plt.show()"
   ]
  },
  {
   "cell_type": "markdown",
   "metadata": {},
   "source": [
    "## Runtime Minutes"
   ]
  },
  {
   "cell_type": "code",
   "execution_count": 391,
   "metadata": {},
   "outputs": [
    {
     "data": {
      "image/png": "[encoded data removed]",
      "text/plain": [
       "<Figure size 432x288 with 1 Axes>"
      ]
     },
     "metadata": {
      "needs_background": "light"
     },
     "output_type": "display_data"
    },
    {
     "name": "stdout",
     "output_type": "stream",
     "text": [
      "Five Shortest Runtimes\n",
      "6.0\n",
      "6.0\n",
      "6.0\n",
      "6.0\n",
      "6.0\n",
      "\n",
      "Five Longest Runtimes\n",
      "5220.0\n",
      "5220.0\n",
      "5220.0\n",
      "5220.0\n",
      "5220.0\n",
      "\n",
      "out.runtimeMinutes.mean()=104.95992128692514\n"
     ]
    }
   ],
   "source": [
    "out.runtimeMinutes = movies.runtimeMinutes.copy()\n",
    "plt.hist(out.runtimeMinutes,bins=50)\n",
    "plt.show()\n",
    "print(\"Five Shortest Runtimes\")\n",
    "print(out.runtimeMinutes.nsmallest(5).to_string(index=False))\n",
    "print(\"\\nFive Longest Runtimes\")\n",
    "print(out.runtimeMinutes.nlargest(5).to_string(index=False))\n",
    "print(f\"\\n{out.runtimeMinutes.mean()=}\")"
   ]
  },
  {
   "cell_type": "markdown",
   "metadata": {},
   "source": [
    "This plot highlights important aspects of this data, the mean is 104 minutes but there are extreme values for both short and long runtimes. This would likely be best represented using the soft max function. Calculating the standard dev and then normalizing it allows all the entires to be fairly represented while also retaining enough information to compare similar runtimes."
   ]
  },
  {
   "cell_type": "code",
   "execution_count": 392,
   "metadata": {},
   "outputs": [
    {
     "data": {
      "image/png": "[encoded data removed]",
      "text/plain": [
       "<Figure size 432x288 with 1 Axes>"
      ]
     },
     "metadata": {
      "needs_background": "light"
     },
     "output_type": "display_data"
    },
    {
     "name": "stdout",
     "output_type": "stream",
     "text": [
      "out.runtimeMinutes.min() = 0.02226362296680541\n",
      "out.runtimeMinutes.max() = 1.0\n",
      "out.runtimeMinutes.mean() = 0.4894335559200213\n"
     ]
    }
   ],
   "source": [
    "out.runtimeMinutes = (out.runtimeMinutes - out.runtimeMinutes.mean()) / (out.runtimeMinutes.std())\n",
    "out.runtimeMinutes = 1 / (1 + np.exp(-out.runtimeMinutes))\n",
    "plt.hist(out.runtimeMinutes,bins=50)\n",
    "plt.show()\n",
    "print(f\"{out.runtimeMinutes.min() = }\")\n",
    "print(f\"{out.runtimeMinutes.max() = }\")\n",
    "print(f\"{out.runtimeMinutes.mean() = }\")"
   ]
  },
  {
   "cell_type": "markdown",
   "metadata": {},
   "source": [
    "The outliers are now represented while the general runtime range is condensed near 0.4. The actual runtime does not matter, but this now represents the runtime length as a comparison to the average. \n",
    "\n",
    "If the runtime value is at one end of the range, it can indicate that the runtime was dramatically different than the norm and can be used to correlate accordingly."
   ]
  },
  {
   "cell_type": "markdown",
   "metadata": {
    "tags": []
   },
   "source": [
    "## Start Year"
   ]
  },
  {
   "cell_type": "code",
   "execution_count": 393,
   "metadata": {},
   "outputs": [
    {
     "data": {
      "image/png": "[encoded data removed]",
      "text/plain": [
       "<Figure size 432x288 with 1 Axes>"
      ]
     },
     "metadata": {
      "needs_background": "light"
     },
     "output_type": "display_data"
    }
   ],
   "source": [
    "out.startYear = movies.startYear.copy()\n",
    "plt.hist(out.startYear,bins=100)\n",
    "plt.show()"
   ]
  },
  {
   "cell_type": "markdown",
   "metadata": {},
   "source": [
    "From the earlier cleaning and subsequent charting of the start year column, the start year has a set range and a heavy weighting to one side. The weighting can be a useful attribute to capture, so a std dev normalization would be a good option. \n",
    "This gives a general sense of movies which were released \"recently\", and older titles are easy to categorize by checking if their value is outside of the -1 to 1 range."
   ]
  },
  {
   "cell_type": "code",
   "execution_count": 394,
   "metadata": {},
   "outputs": [
    {
     "data": {
      "image/png": "[encoded data removed]",
      "text/plain": [
       "<Figure size 432x288 with 1 Axes>"
      ]
     },
     "metadata": {
      "needs_background": "light"
     },
     "output_type": "display_data"
    },
    {
     "name": "stdout",
     "output_type": "stream",
     "text": [
      "out.startYear.min() = -4.925071811109718\n",
      "out.startYear.max() = 1.02299339444182\n",
      "out.startYear.mean() = 3.402918340051949e-15\n",
      "out.startYear.mode().to_string(index=False) = '0.764382'\n"
     ]
    }
   ],
   "source": [
    "out.startYear = (out.startYear-out.startYear.mean())/out.startYear.std()\n",
    "plt.hist(out.startYear,bins=100)\n",
    "plt.show()\n",
    "print(f\"{out.startYear.min() = }\")\n",
    "print(f\"{out.startYear.max() = }\")\n",
    "print(f\"{out.startYear.mean() = }\")\n",
    "print(f\"{out.startYear.mode().to_string(index=False) = }\")"
   ]
  },
  {
   "cell_type": "markdown",
   "metadata": {},
   "source": [
    "The final normaliation shows the claim made earlier, with movies 1980-2021 falling within the -1 to 1 range, and titles that are older will have a resulting value lower than -1. "
   ]
  },
  {
   "cell_type": "code",
   "execution_count": 395,
   "metadata": {},
   "outputs": [],
   "source": [
    "out.to_csv( \"out.tsv\" , sep='\\t', encoding='utf-8', index = False)"
   ]
  },
  {
   "cell_type": "code",
   "execution_count": null,
   "metadata": {},
   "outputs": [],
   "source": []
  }
 ],
 "metadata": {
  "interpreter": {
   "hash": "b3ba2566441a7c06988d0923437866b63cedc61552a5af99d1f4fb67d367b25f"
  },
  "kernelspec": {
   "display_name": "Python 3 (ipykernel)",
   "language": "python",
   "name": "python3"
  },
  "language_info": {
   "codemirror_mode": {
    "name": "ipython",
    "version": 3
   },
   "file_extension": ".py",
   "mimetype": "text/x-python",
   "name": "python",
   "nbconvert_exporter": "python",
   "pygments_lexer": "ipython3",
   "version": "3.8.12"
  }
 },
 "nbformat": 4,
 "nbformat_minor": 4
}
