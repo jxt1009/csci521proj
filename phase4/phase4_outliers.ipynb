{
 "cells": [
  {
   "cell_type": "markdown",
   "metadata": {},
   "source": [
    "# Phase 4 - Outliers detection and normalization\n",
    "*TEAM 5*"
   ]
  },
  {
   "cell_type": "code",
   "execution_count": 1,
   "metadata": {},
   "outputs": [],
   "source": [
    "import pandas as pd\n",
    "import numpy as np\n",
    "import re\n",
    "\n",
    "import matplotlib.pyplot as plt\n",
    "from scipy.stats import zscore\n"
   ]
  },
  {
   "cell_type": "code",
   "execution_count": 2,
   "metadata": {},
   "outputs": [
    {
     "name": "stderr",
     "output_type": "stream",
     "text": [
      "c:\\users\\ellis\\appdata\\local\\programs\\python\\python39\\lib\\site-packages\\IPython\\core\\interactiveshell.py:3441: DtypeWarning: Columns (17) have mixed types.Specify dtype option on import or set low_memory=False.\n",
      "  exec(code_obj, self.user_global_ns, self.user_ns)\n"
     ]
    },
    {
     "name": "stdout",
     "output_type": "stream",
     "text": [
      "movies.shape=(9465447, 23)\n"
     ]
    }
   ],
   "source": [
    "movies = pd.read_csv('../data/us.movies.actors.tsv', sep='\\t', na_values=['\\\\N'])\n",
    "print(f'{movies.shape=}')"
   ]
  },
  {
   "cell_type": "code",
   "execution_count": 3,
   "metadata": {},
   "outputs": [
    {
     "data": {
      "text/html": [
       "<div>\n",
       "<style scoped>\n",
       "    .dataframe tbody tr th:only-of-type {\n",
       "        vertical-align: middle;\n",
       "    }\n",
       "\n",
       "    .dataframe tbody tr th {\n",
       "        vertical-align: top;\n",
       "    }\n",
       "\n",
       "    .dataframe thead th {\n",
       "        text-align: right;\n",
       "    }\n",
       "</style>\n",
       "<table border=\"1\" class=\"dataframe\">\n",
       "  <thead>\n",
       "    <tr style=\"text-align: right;\">\n",
       "      <th></th>\n",
       "      <th>tconst</th>\n",
       "      <th>nconst</th>\n",
       "      <th>primaryName</th>\n",
       "      <th>birthYear</th>\n",
       "      <th>deathYear</th>\n",
       "      <th>primaryProfession</th>\n",
       "      <th>titleType</th>\n",
       "      <th>primaryTitle</th>\n",
       "      <th>originalTitle</th>\n",
       "      <th>isAdult</th>\n",
       "      <th>...</th>\n",
       "      <th>genres</th>\n",
       "      <th>ordering</th>\n",
       "      <th>title</th>\n",
       "      <th>region</th>\n",
       "      <th>language</th>\n",
       "      <th>types</th>\n",
       "      <th>attributes</th>\n",
       "      <th>isOriginalTitle</th>\n",
       "      <th>averageRating</th>\n",
       "      <th>numVotes</th>\n",
       "    </tr>\n",
       "  </thead>\n",
       "  <tbody>\n",
       "    <tr>\n",
       "      <th>0</th>\n",
       "      <td>tt0000574</td>\n",
       "      <td>nm0170118</td>\n",
       "      <td>Bella Cola</td>\n",
       "      <td>NaN</td>\n",
       "      <td>NaN</td>\n",
       "      <td>actress</td>\n",
       "      <td>movie</td>\n",
       "      <td>The Story of the Kelly Gang</td>\n",
       "      <td>The Story of the Kelly Gang</td>\n",
       "      <td>0</td>\n",
       "      <td>...</td>\n",
       "      <td>Action</td>\n",
       "      <td>5</td>\n",
       "      <td>The Story of the Kelly Gang</td>\n",
       "      <td>US</td>\n",
       "      <td>NaN</td>\n",
       "      <td>imdbDisplay</td>\n",
       "      <td>NaN</td>\n",
       "      <td>0</td>\n",
       "      <td>6.1</td>\n",
       "      <td>692</td>\n",
       "    </tr>\n",
       "    <tr>\n",
       "      <th>1</th>\n",
       "      <td>tt0000574</td>\n",
       "      <td>nm0170118</td>\n",
       "      <td>Bella Cola</td>\n",
       "      <td>NaN</td>\n",
       "      <td>NaN</td>\n",
       "      <td>actress</td>\n",
       "      <td>movie</td>\n",
       "      <td>The Story of the Kelly Gang</td>\n",
       "      <td>The Story of the Kelly Gang</td>\n",
       "      <td>0</td>\n",
       "      <td>...</td>\n",
       "      <td>Adventure</td>\n",
       "      <td>5</td>\n",
       "      <td>The Story of the Kelly Gang</td>\n",
       "      <td>US</td>\n",
       "      <td>NaN</td>\n",
       "      <td>imdbDisplay</td>\n",
       "      <td>NaN</td>\n",
       "      <td>0</td>\n",
       "      <td>6.1</td>\n",
       "      <td>692</td>\n",
       "    </tr>\n",
       "    <tr>\n",
       "      <th>2</th>\n",
       "      <td>tt0000574</td>\n",
       "      <td>nm0170118</td>\n",
       "      <td>Bella Cola</td>\n",
       "      <td>NaN</td>\n",
       "      <td>NaN</td>\n",
       "      <td>actress</td>\n",
       "      <td>movie</td>\n",
       "      <td>The Story of the Kelly Gang</td>\n",
       "      <td>The Story of the Kelly Gang</td>\n",
       "      <td>0</td>\n",
       "      <td>...</td>\n",
       "      <td>Biography</td>\n",
       "      <td>5</td>\n",
       "      <td>The Story of the Kelly Gang</td>\n",
       "      <td>US</td>\n",
       "      <td>NaN</td>\n",
       "      <td>imdbDisplay</td>\n",
       "      <td>NaN</td>\n",
       "      <td>0</td>\n",
       "      <td>6.1</td>\n",
       "      <td>692</td>\n",
       "    </tr>\n",
       "    <tr>\n",
       "      <th>3</th>\n",
       "      <td>tt0000574</td>\n",
       "      <td>nm0187697</td>\n",
       "      <td>Sam Crewes</td>\n",
       "      <td>NaN</td>\n",
       "      <td>NaN</td>\n",
       "      <td>actor</td>\n",
       "      <td>movie</td>\n",
       "      <td>The Story of the Kelly Gang</td>\n",
       "      <td>The Story of the Kelly Gang</td>\n",
       "      <td>0</td>\n",
       "      <td>...</td>\n",
       "      <td>Action</td>\n",
       "      <td>5</td>\n",
       "      <td>The Story of the Kelly Gang</td>\n",
       "      <td>US</td>\n",
       "      <td>NaN</td>\n",
       "      <td>imdbDisplay</td>\n",
       "      <td>NaN</td>\n",
       "      <td>0</td>\n",
       "      <td>6.1</td>\n",
       "      <td>692</td>\n",
       "    </tr>\n",
       "    <tr>\n",
       "      <th>4</th>\n",
       "      <td>tt0000574</td>\n",
       "      <td>nm0187697</td>\n",
       "      <td>Sam Crewes</td>\n",
       "      <td>NaN</td>\n",
       "      <td>NaN</td>\n",
       "      <td>actor</td>\n",
       "      <td>movie</td>\n",
       "      <td>The Story of the Kelly Gang</td>\n",
       "      <td>The Story of the Kelly Gang</td>\n",
       "      <td>0</td>\n",
       "      <td>...</td>\n",
       "      <td>Adventure</td>\n",
       "      <td>5</td>\n",
       "      <td>The Story of the Kelly Gang</td>\n",
       "      <td>US</td>\n",
       "      <td>NaN</td>\n",
       "      <td>imdbDisplay</td>\n",
       "      <td>NaN</td>\n",
       "      <td>0</td>\n",
       "      <td>6.1</td>\n",
       "      <td>692</td>\n",
       "    </tr>\n",
       "  </tbody>\n",
       "</table>\n",
       "<p>5 rows × 23 columns</p>\n",
       "</div>"
      ],
      "text/plain": [
       "      tconst     nconst primaryName  birthYear  deathYear primaryProfession  \\\n",
       "0  tt0000574  nm0170118  Bella Cola        NaN        NaN           actress   \n",
       "1  tt0000574  nm0170118  Bella Cola        NaN        NaN           actress   \n",
       "2  tt0000574  nm0170118  Bella Cola        NaN        NaN           actress   \n",
       "3  tt0000574  nm0187697  Sam Crewes        NaN        NaN             actor   \n",
       "4  tt0000574  nm0187697  Sam Crewes        NaN        NaN             actor   \n",
       "\n",
       "  titleType                 primaryTitle                originalTitle  \\\n",
       "0     movie  The Story of the Kelly Gang  The Story of the Kelly Gang   \n",
       "1     movie  The Story of the Kelly Gang  The Story of the Kelly Gang   \n",
       "2     movie  The Story of the Kelly Gang  The Story of the Kelly Gang   \n",
       "3     movie  The Story of the Kelly Gang  The Story of the Kelly Gang   \n",
       "4     movie  The Story of the Kelly Gang  The Story of the Kelly Gang   \n",
       "\n",
       "   isAdult  ...     genres  ordering                        title region  \\\n",
       "0        0  ...     Action         5  The Story of the Kelly Gang     US   \n",
       "1        0  ...  Adventure         5  The Story of the Kelly Gang     US   \n",
       "2        0  ...  Biography         5  The Story of the Kelly Gang     US   \n",
       "3        0  ...     Action         5  The Story of the Kelly Gang     US   \n",
       "4        0  ...  Adventure         5  The Story of the Kelly Gang     US   \n",
       "\n",
       "   language        types attributes isOriginalTitle averageRating numVotes  \n",
       "0       NaN  imdbDisplay        NaN               0           6.1      692  \n",
       "1       NaN  imdbDisplay        NaN               0           6.1      692  \n",
       "2       NaN  imdbDisplay        NaN               0           6.1      692  \n",
       "3       NaN  imdbDisplay        NaN               0           6.1      692  \n",
       "4       NaN  imdbDisplay        NaN               0           6.1      692  \n",
       "\n",
       "[5 rows x 23 columns]"
      ]
     },
     "execution_count": 3,
     "metadata": {},
     "output_type": "execute_result"
    }
   ],
   "source": [
    "movies.head()"
   ]
  },
  {
   "cell_type": "markdown",
   "metadata": {},
   "source": [
    "## Treating attribute missing and invalid values\n",
    "\n",
    "Summary of the work done in the Python cells below:\n",
    "\n",
    "- `tconst`: checking missing values and invalid format of the id, there isn't any of those. However, the attribute has almost only distinct values and should be deleted if during the data mining application.\n",
    "- `nconst`: checking missing values and invalid format of the id, there isn't any of those. However, as for the previous attribute nconst has a lot of distinct values. It should be removed when data mining is applied.\n",
    "- `primaryName`: checking missing values, there isn't any. As for the previous two, a lot a distinct values.\n",
    "- `birthYear`: the missing value rate is above 73% which makes this attribute useless for the learning. \n",
    "- `deathYear`: as previously, the missing value rate is high (above 90%). It is understandable as all the actors aren't dead but it still makes this attribute hard to use and he may be irrelevant for the learning algorithm to keep this information.  \n",
    "- `primaryProfession`: no missing or invalid values in this attribute.\n",
    "- `titleType`: there aren't any invalid or missing entries for this attribute. There is a strong class imbalance which may lead to the suppression of this attribute but the information given may worth to keep it for now.\n",
    "- `primaryTitle`: no invalid or missing values but lot of distinct values and 81% of similarity with originalTitle.\n",
    "- `originalTitle`: no invalid or missing values but lot of distinct values and 81% of similarity with primaryTitle.\n",
    "- `isAdult`: no invalid or missing entries but a strong class imbalance. However, the given information may be considered by the miner depending on his study.\n",
    "- `startYear`: No invalid attributes as the range is coherent (1906-2021). 7 movies with missing startYear. They can be deleted regarding the size of the dataset if the purpose is to apply data mining methods. \n",
    "- `endYear`: all the values are missing for this attribute. It must be deleted as it doesn't bring any information.\n",
    "- `runtimeMinutes`: there are some missing values and the value-range is too wide. As this variable may be very important for the analysis, it would be interesting to substitute its missing or invalid values. We identify outliers by computing the z-score. The entries with a too high z-score are omitted (z>10). Using z-score assumes normal distribution of the variable. We can validate this hypothesis afterward with the ditribution plot. These omitted values represent less than 2% of the entries which isn't a big ratio. We replace these values with the median as this replacement method is less sensitive to the distribution and the remaining extreme values.\n",
    "- `genres`: there are 2094 movies with missing genres. It represents less than 0.2% of the dataset. There isn't any simple way of giving a genre so we would prefer to remove these values. All the other entries are valid.\n",
    "- `ordering`: by looking at the distribution not any sample seems to be an outlier. There aren't any missing entries for this attribute.\n",
    "- `title`: no invalid or missing values but lot of distinct values. This attribute has a lot of similarity with primaryTitle and originalTitle. \n",
    "- `region`: only one distinct value and there isn't any missing entries. This entry don't bring any information. \n",
    "- `language`: with more than 98% of missing entries, this attribute can't be used.\n",
    "- `types`: there are around 16% or entries missing for this attribute. There is a strong class imbalance in this attribute so it may be possible to replace by the mode. As it adds bias to the dataset, it can be unappropriate to replace these values, we assume that the purpose of the further study won't be mainly focused on the types attribute. \n",
    "- `attributes`: with more than 88% percent of missing values, no information can be extracted for data mining purpose. \n",
    "- `averageRating`: values of the attribute are in the right range [0-10]. With no missing values.\n",
    "- `numVotes`: the range of the attribute seems correct (only positive values and the one with the most votes are popular). No missing values."
   ]
  },
  {
   "cell_type": "markdown",
   "metadata": {},
   "source": [
    "### `tconst`"
   ]
  },
  {
   "cell_type": "code",
   "execution_count": 4,
   "metadata": {},
   "outputs": [
    {
     "name": "stdout",
     "output_type": "stream",
     "text": [
      "movies.tconst.nunique()=142461\n",
      "movies.tconst.isna().sum()=0\n"
     ]
    }
   ],
   "source": [
    "print(f'{movies.tconst.nunique()=}')\n",
    "print(f'{movies.tconst.isna().sum()=}')"
   ]
  },
  {
   "cell_type": "code",
   "execution_count": 5,
   "metadata": {},
   "outputs": [
    {
     "data": {
      "text/plain": [
       "9465447"
      ]
     },
     "execution_count": 5,
     "metadata": {},
     "output_type": "execute_result"
    }
   ],
   "source": [
    "is_tconst_format = lambda x: bool(re.match('tt[0-9]+', x))\n",
    "movies.tconst.map(is_tconst_format).sum()"
   ]
  },
  {
   "cell_type": "markdown",
   "metadata": {},
   "source": [
    "No missing and/or invalid values, lot of distinct values."
   ]
  },
  {
   "cell_type": "markdown",
   "metadata": {},
   "source": [
    "### `nconst`"
   ]
  },
  {
   "cell_type": "code",
   "execution_count": 6,
   "metadata": {},
   "outputs": [
    {
     "name": "stdout",
     "output_type": "stream",
     "text": [
      "movies.nconst.nunique()=1312824\n",
      "movies.nconst.isna().sum()=0\n"
     ]
    }
   ],
   "source": [
    "print(f'{movies.nconst.nunique()=}')\n",
    "print(f'{movies.nconst.isna().sum()=}')"
   ]
  },
  {
   "cell_type": "code",
   "execution_count": 7,
   "metadata": {},
   "outputs": [
    {
     "data": {
      "text/plain": [
       "9465447"
      ]
     },
     "execution_count": 7,
     "metadata": {},
     "output_type": "execute_result"
    }
   ],
   "source": [
    "is_nconst_format = lambda x: bool(re.match('nm[0-9]+', x))\n",
    "movies.nconst.map(is_nconst_format).sum()"
   ]
  },
  {
   "cell_type": "markdown",
   "metadata": {},
   "source": [
    "No missing and/or invalid values, lot of distinct values."
   ]
  },
  {
   "cell_type": "markdown",
   "metadata": {},
   "source": [
    "### `primaryName`"
   ]
  },
  {
   "cell_type": "code",
   "execution_count": 8,
   "metadata": {},
   "outputs": [
    {
     "name": "stdout",
     "output_type": "stream",
     "text": [
      "0\n"
     ]
    }
   ],
   "source": [
    "print(movies.primaryName.isna().sum())"
   ]
  },
  {
   "cell_type": "code",
   "execution_count": 9,
   "metadata": {},
   "outputs": [
    {
     "name": "stdout",
     "output_type": "stream",
     "text": [
      "movies.primaryName.nunique()=1221954\n"
     ]
    }
   ],
   "source": [
    "print(f'{movies.primaryName.nunique()=}')"
   ]
  },
  {
   "cell_type": "markdown",
   "metadata": {},
   "source": [
    "No missing values, lot of distinct values."
   ]
  },
  {
   "cell_type": "markdown",
   "metadata": {},
   "source": [
    "### `Birth year`"
   ]
  },
  {
   "cell_type": "code",
   "execution_count": 10,
   "metadata": {},
   "outputs": [
    {
     "data": {
      "text/plain": [
       "0.7305217598281413"
      ]
     },
     "execution_count": 10,
     "metadata": {},
     "output_type": "execute_result"
    }
   ],
   "source": [
    "movies.birthYear.isna().mean()"
   ]
  },
  {
   "cell_type": "markdown",
   "metadata": {},
   "source": [
    "The missing value rate is above 73% which may make this attribute useless for the learning. "
   ]
  },
  {
   "cell_type": "markdown",
   "metadata": {},
   "source": [
    "### `deathYear`"
   ]
  },
  {
   "cell_type": "code",
   "execution_count": 11,
   "metadata": {},
   "outputs": [
    {
     "data": {
      "text/plain": [
       "0.9126614939579716"
      ]
     },
     "execution_count": 11,
     "metadata": {},
     "output_type": "execute_result"
    }
   ],
   "source": [
    "movies.deathYear.isna().mean()"
   ]
  },
  {
   "cell_type": "markdown",
   "metadata": {},
   "source": [
    "The missing value rate is above 90%. It is understandable as all the actors aren't dead but it still makes this attribute hard to use and he may be irrelevant for the learning algorithm to keep this information."
   ]
  },
  {
   "cell_type": "markdown",
   "metadata": {},
   "source": [
    "### `primaryProfession`"
   ]
  },
  {
   "cell_type": "code",
   "execution_count": 12,
   "metadata": {},
   "outputs": [
    {
     "data": {
      "text/plain": [
       "0"
      ]
     },
     "execution_count": 12,
     "metadata": {},
     "output_type": "execute_result"
    }
   ],
   "source": [
    "movies.primaryProfession.isna().sum()"
   ]
  },
  {
   "cell_type": "code",
   "execution_count": 13,
   "metadata": {},
   "outputs": [
    {
     "data": {
      "text/plain": [
       "array(['actress', 'actor', 'assistant_director', 'cinematographer',\n",
       "       'producer', 'director', 'writer', 'production_designer', 'editor',\n",
       "       'editorial_department', 'make_up_department', 'soundtrack',\n",
       "       'location_management', 'miscellaneous', 'sound_department',\n",
       "       'visual_effects', 'production_manager', 'animation_department',\n",
       "       'stunts', 'art_department', 'camera_department',\n",
       "       'costume_department', 'casting_director', 'script_department',\n",
       "       'special_effects', 'composer', 'music_department', 'set_decorator',\n",
       "       'costume_designer', 'art_director', 'talent_agent',\n",
       "       'transportation_department', 'casting_department', 'executive',\n",
       "       'manager', 'publicist', 'legal', 'assistant',\n",
       "       'production_department'], dtype=object)"
      ]
     },
     "execution_count": 13,
     "metadata": {},
     "output_type": "execute_result"
    }
   ],
   "source": [
    "movies.primaryProfession.unique()"
   ]
  },
  {
   "cell_type": "markdown",
   "metadata": {},
   "source": [
    "No missing or invalid value in this attribute."
   ]
  },
  {
   "cell_type": "markdown",
   "metadata": {},
   "source": [
    "### `titleType`"
   ]
  },
  {
   "cell_type": "code",
   "execution_count": 14,
   "metadata": {},
   "outputs": [
    {
     "data": {
      "text/plain": [
       "0"
      ]
     },
     "execution_count": 14,
     "metadata": {},
     "output_type": "execute_result"
    }
   ],
   "source": [
    "movies.titleType.isna().sum()"
   ]
  },
  {
   "cell_type": "code",
   "execution_count": 15,
   "metadata": {},
   "outputs": [
    {
     "data": {
      "text/plain": [
       "movie      9225784\n",
       "tvMovie     239663\n",
       "Name: titleType, dtype: int64"
      ]
     },
     "execution_count": 15,
     "metadata": {},
     "output_type": "execute_result"
    }
   ],
   "source": [
    "movies.titleType.value_counts()"
   ]
  },
  {
   "cell_type": "markdown",
   "metadata": {},
   "source": [
    "There aren't any invalid or missing entries for this attribute. There is a strong class imbalance which may lead to the suppression of this attribute but the information given may worth to keep it for now."
   ]
  },
  {
   "cell_type": "markdown",
   "metadata": {},
   "source": [
    "### `primaryTitle` / `originalTitle`"
   ]
  },
  {
   "cell_type": "code",
   "execution_count": 16,
   "metadata": {},
   "outputs": [
    {
     "name": "stdout",
     "output_type": "stream",
     "text": [
      "movies.primaryTitle.isna().sum()=0\n",
      "movies.primaryTitle.nunique()=125298\n"
     ]
    }
   ],
   "source": [
    "print(f'{movies.primaryTitle.isna().sum()=}')\n",
    "print(f'{movies.primaryTitle.nunique()=}')"
   ]
  },
  {
   "cell_type": "code",
   "execution_count": 17,
   "metadata": {},
   "outputs": [
    {
     "name": "stdout",
     "output_type": "stream",
     "text": [
      "movies.originalTitle.isna().sum()=0\n",
      "movies.originalTitle.nunique()=130378\n"
     ]
    }
   ],
   "source": [
    "print(f'{movies.originalTitle.isna().sum()=}')\n",
    "print(f'{movies.originalTitle.nunique()=}')"
   ]
  },
  {
   "cell_type": "markdown",
   "metadata": {},
   "source": [
    "Very similar attributes with no missing values and almost the same number of unique values. We compare the two element-wise with the main title variable."
   ]
  },
  {
   "cell_type": "markdown",
   "metadata": {},
   "source": [
    "### `title`"
   ]
  },
  {
   "cell_type": "code",
   "execution_count": 18,
   "metadata": {},
   "outputs": [
    {
     "name": "stdout",
     "output_type": "stream",
     "text": [
      "movies.title.isna().sum()=0\n",
      "movies.title.nunique()=149274\n"
     ]
    }
   ],
   "source": [
    "print(f'{movies.title.isna().sum()=}')\n",
    "print(f'{movies.title.nunique()=}')"
   ]
  },
  {
   "cell_type": "code",
   "execution_count": 19,
   "metadata": {},
   "outputs": [
    {
     "data": {
      "text/plain": [
       "0.7088605535480786"
      ]
     },
     "execution_count": 19,
     "metadata": {},
     "output_type": "execute_result"
    }
   ],
   "source": [
    "movies.primaryTitle.eq(movies.title).sum()/movies.shape[0]"
   ]
  },
  {
   "cell_type": "code",
   "execution_count": 20,
   "metadata": {},
   "outputs": [
    {
     "data": {
      "text/plain": [
       "0.5677131782577199"
      ]
     },
     "execution_count": 20,
     "metadata": {},
     "output_type": "execute_result"
    }
   ],
   "source": [
    "movies.originalTitle.eq(movies.title).sum()/movies.shape[0]"
   ]
  },
  {
   "cell_type": "markdown",
   "metadata": {},
   "source": [
    "71% and 57% of similarity between the variables is a lot of correlation. These variables convey the same information. Only one should be kept. As title has more unique entries (with no missing values), we'll keep this one. Note: isOriginalTitle is linked with originalTitle. "
   ]
  },
  {
   "cell_type": "markdown",
   "metadata": {},
   "source": [
    "### `isAdult`"
   ]
  },
  {
   "cell_type": "code",
   "execution_count": 21,
   "metadata": {},
   "outputs": [
    {
     "data": {
      "text/plain": [
       "0"
      ]
     },
     "execution_count": 21,
     "metadata": {},
     "output_type": "execute_result"
    }
   ],
   "source": [
    "movies.isAdult.isna().sum()"
   ]
  },
  {
   "cell_type": "code",
   "execution_count": 22,
   "metadata": {},
   "outputs": [
    {
     "data": {
      "text/plain": [
       "0    9403387\n",
       "1      62060\n",
       "Name: isAdult, dtype: int64"
      ]
     },
     "execution_count": 22,
     "metadata": {},
     "output_type": "execute_result"
    }
   ],
   "source": [
    "movies.isAdult.value_counts()"
   ]
  },
  {
   "cell_type": "markdown",
   "metadata": {},
   "source": [
    "No invalid or missing entries but a strong class imbalance. However, the given information may be considered by the miner depending on his study."
   ]
  },
  {
   "cell_type": "markdown",
   "metadata": {},
   "source": [
    "### `startYear`"
   ]
  },
  {
   "cell_type": "code",
   "execution_count": 23,
   "metadata": {},
   "outputs": [
    {
     "data": {
      "text/html": [
       "<div>\n",
       "<style scoped>\n",
       "    .dataframe tbody tr th:only-of-type {\n",
       "        vertical-align: middle;\n",
       "    }\n",
       "\n",
       "    .dataframe tbody tr th {\n",
       "        vertical-align: top;\n",
       "    }\n",
       "\n",
       "    .dataframe thead th {\n",
       "        text-align: right;\n",
       "    }\n",
       "</style>\n",
       "<table border=\"1\" class=\"dataframe\">\n",
       "  <thead>\n",
       "    <tr style=\"text-align: right;\">\n",
       "      <th></th>\n",
       "      <th>title</th>\n",
       "      <th>startYear</th>\n",
       "    </tr>\n",
       "  </thead>\n",
       "  <tbody>\n",
       "    <tr>\n",
       "      <th>846789</th>\n",
       "      <td>The Money (1976)</td>\n",
       "      <td>NaN</td>\n",
       "    </tr>\n",
       "    <tr>\n",
       "      <th>846790</th>\n",
       "      <td>Atlantic City Jackpot</td>\n",
       "      <td>NaN</td>\n",
       "    </tr>\n",
       "    <tr>\n",
       "      <th>7230529</th>\n",
       "      <td>As Words Breathe</td>\n",
       "      <td>NaN</td>\n",
       "    </tr>\n",
       "    <tr>\n",
       "      <th>7475515</th>\n",
       "      <td>Untitled Chris Black Project</td>\n",
       "      <td>NaN</td>\n",
       "    </tr>\n",
       "    <tr>\n",
       "      <th>7475516</th>\n",
       "      <td>Reckless</td>\n",
       "      <td>NaN</td>\n",
       "    </tr>\n",
       "    <tr>\n",
       "      <th>8987922</th>\n",
       "      <td>Cool as Hell 2</td>\n",
       "      <td>NaN</td>\n",
       "    </tr>\n",
       "    <tr>\n",
       "      <th>8997388</th>\n",
       "      <td>Gray Is the New Blonde</td>\n",
       "      <td>NaN</td>\n",
       "    </tr>\n",
       "    <tr>\n",
       "      <th>9005997</th>\n",
       "      <td>Day 13</td>\n",
       "      <td>NaN</td>\n",
       "    </tr>\n",
       "    <tr>\n",
       "      <th>9419545</th>\n",
       "      <td>Patriot Acts</td>\n",
       "      <td>NaN</td>\n",
       "    </tr>\n",
       "  </tbody>\n",
       "</table>\n",
       "</div>"
      ],
      "text/plain": [
       "                                title  startYear\n",
       "846789               The Money (1976)        NaN\n",
       "846790          Atlantic City Jackpot        NaN\n",
       "7230529              As Words Breathe        NaN\n",
       "7475515  Untitled Chris Black Project        NaN\n",
       "7475516                      Reckless        NaN\n",
       "8987922                Cool as Hell 2        NaN\n",
       "8997388        Gray Is the New Blonde        NaN\n",
       "9005997                        Day 13        NaN\n",
       "9419545                  Patriot Acts        NaN"
      ]
     },
     "execution_count": 23,
     "metadata": {},
     "output_type": "execute_result"
    }
   ],
   "source": [
    "movies.loc[movies.startYear.isna(), :][['title', 'startYear']].drop_duplicates()"
   ]
  },
  {
   "cell_type": "code",
   "execution_count": 24,
   "metadata": {},
   "outputs": [
    {
     "data": {
      "text/plain": [
       "count    9.465308e+06\n",
       "mean     2.001032e+03\n",
       "std      1.943025e+01\n",
       "min      1.906000e+03\n",
       "25%      1.995000e+03\n",
       "50%      2.008000e+03\n",
       "75%      2.014000e+03\n",
       "max      2.022000e+03\n",
       "Name: startYear, dtype: float64"
      ]
     },
     "execution_count": 24,
     "metadata": {},
     "output_type": "execute_result"
    }
   ],
   "source": [
    "movies.startYear.describe()"
   ]
  },
  {
   "cell_type": "code",
   "execution_count": 25,
   "metadata": {},
   "outputs": [
    {
     "name": "stdout",
     "output_type": "stream",
     "text": [
      "movies.startYear.min()=1906.0\n",
      "movies.startYear.max()=2022.0\n"
     ]
    }
   ],
   "source": [
    "print(f'{movies.startYear.min()=}')\n",
    "print(f'{movies.startYear.max()=}')"
   ]
  },
  {
   "cell_type": "markdown",
   "metadata": {},
   "source": [
    "No invalid attributes as the range is correct. 7 movies have empty startYear values, this small amount can be deleted, for the movie The Money (1976) we can fill the value."
   ]
  },
  {
   "cell_type": "markdown",
   "metadata": {},
   "source": [
    "### `endYear`"
   ]
  },
  {
   "cell_type": "code",
   "execution_count": 26,
   "metadata": {},
   "outputs": [
    {
     "data": {
      "text/plain": [
       "1.0"
      ]
     },
     "execution_count": 26,
     "metadata": {},
     "output_type": "execute_result"
    }
   ],
   "source": [
    "movies.endYear.isna().sum()/movies.shape[0]"
   ]
  },
  {
   "cell_type": "markdown",
   "metadata": {},
   "source": [
    "All the values are missing for this attribute. It must be deleted as it doesn't bring any information."
   ]
  },
  {
   "cell_type": "markdown",
   "metadata": {},
   "source": [
    "### `runtimeMinutes`"
   ]
  },
  {
   "cell_type": "code",
   "execution_count": 27,
   "metadata": {},
   "outputs": [
    {
     "name": "stdout",
     "output_type": "stream",
     "text": [
      "movies.runtimeMinutes.isna().sum()=176915\n",
      "movies.runtimeMinutes.min()=4.0\n",
      "movies.runtimeMinutes.max()=5220.0\n"
     ]
    }
   ],
   "source": [
    "print(f'{movies.runtimeMinutes.isna().sum()=}')\n",
    "\n",
    "print(f'{movies.runtimeMinutes.min()=}')\n",
    "print(f'{movies.runtimeMinutes.max()=}')"
   ]
  },
  {
   "cell_type": "markdown",
   "metadata": {},
   "source": [
    "The are some missing values and the range is too wide. As this variable is very important it would be interesting to substitute its missing or invalid values."
   ]
  },
  {
   "cell_type": "code",
   "execution_count": 28,
   "metadata": {},
   "outputs": [],
   "source": [
    "scores = np.abs(zscore(movies.runtimeMinutes, nan_policy='omit'))"
   ]
  },
  {
   "cell_type": "code",
   "execution_count": 29,
   "metadata": {},
   "outputs": [
    {
     "data": {
      "text/plain": [
       "0.980999946436761"
      ]
     },
     "execution_count": 29,
     "metadata": {},
     "output_type": "execute_result"
    }
   ],
   "source": [
    "(scores<10).mean()"
   ]
  },
  {
   "cell_type": "code",
   "execution_count": 30,
   "metadata": {},
   "outputs": [
    {
     "data": {
      "image/png": "[encoded data removed]",
      "text/plain": [
       "<Figure size 432x288 with 1 Axes>"
      ]
     },
     "metadata": {
      "needs_background": "light"
     },
     "output_type": "display_data"
    }
   ],
   "source": [
    "plt.hist(movies.runtimeMinutes[scores<10], bins=50)\n",
    "plt.show()"
   ]
  },
  {
   "cell_type": "markdown",
   "metadata": {},
   "source": [
    "We identify outliers by computing the z-score. The entries with a too high z-score are omitted (z>10). Using z-score assumes normal distribution of the variable. We can validate this hypothesis afterward with the ditribution plot. These omitted values represent less than 2% of the entries which isn't a big ratio. We replace these values with the median as this replacement method is less sensitive to the distribution and the remaining extreme values."
   ]
  },
  {
   "cell_type": "markdown",
   "metadata": {},
   "source": [
    "### `genres`"
   ]
  },
  {
   "cell_type": "code",
   "execution_count": 31,
   "metadata": {},
   "outputs": [
    {
     "data": {
      "text/plain": [
       "0.0017490985898500093"
      ]
     },
     "execution_count": 31,
     "metadata": {},
     "output_type": "execute_result"
    }
   ],
   "source": [
    "movies.genres.isna().sum()/movies.shape[0]"
   ]
  },
  {
   "cell_type": "code",
   "execution_count": 32,
   "metadata": {},
   "outputs": [
    {
     "data": {
      "text/html": [
       "<div>\n",
       "<style scoped>\n",
       "    .dataframe tbody tr th:only-of-type {\n",
       "        vertical-align: middle;\n",
       "    }\n",
       "\n",
       "    .dataframe tbody tr th {\n",
       "        vertical-align: top;\n",
       "    }\n",
       "\n",
       "    .dataframe thead th {\n",
       "        text-align: right;\n",
       "    }\n",
       "</style>\n",
       "<table border=\"1\" class=\"dataframe\">\n",
       "  <thead>\n",
       "    <tr style=\"text-align: right;\">\n",
       "      <th></th>\n",
       "      <th>title</th>\n",
       "      <th>genres</th>\n",
       "    </tr>\n",
       "  </thead>\n",
       "  <tbody>\n",
       "    <tr>\n",
       "      <th>128</th>\n",
       "      <td>Dorothy and the Scarecrow in Oz</td>\n",
       "      <td>NaN</td>\n",
       "    </tr>\n",
       "    <tr>\n",
       "      <th>162</th>\n",
       "      <td>The Infant at Snakeville</td>\n",
       "      <td>NaN</td>\n",
       "    </tr>\n",
       "    <tr>\n",
       "      <th>287</th>\n",
       "      <td>As You Like It</td>\n",
       "      <td>NaN</td>\n",
       "    </tr>\n",
       "    <tr>\n",
       "      <th>1312</th>\n",
       "      <td>A Venetian Night</td>\n",
       "      <td>NaN</td>\n",
       "    </tr>\n",
       "    <tr>\n",
       "      <th>1315</th>\n",
       "      <td>When the Earth Trembled</td>\n",
       "      <td>NaN</td>\n",
       "    </tr>\n",
       "    <tr>\n",
       "      <th>...</th>\n",
       "      <td>...</td>\n",
       "      <td>...</td>\n",
       "    </tr>\n",
       "    <tr>\n",
       "      <th>9435873</th>\n",
       "      <td>Music Hole</td>\n",
       "      <td>NaN</td>\n",
       "    </tr>\n",
       "    <tr>\n",
       "      <th>9442612</th>\n",
       "      <td>Zombie Universe 2</td>\n",
       "      <td>NaN</td>\n",
       "    </tr>\n",
       "    <tr>\n",
       "      <th>9445745</th>\n",
       "      <td>Little Wound's Warriors</td>\n",
       "      <td>NaN</td>\n",
       "    </tr>\n",
       "    <tr>\n",
       "      <th>9446502</th>\n",
       "      <td>Full Gas</td>\n",
       "      <td>NaN</td>\n",
       "    </tr>\n",
       "    <tr>\n",
       "      <th>9447851</th>\n",
       "      <td>The Cat in Their Arms</td>\n",
       "      <td>NaN</td>\n",
       "    </tr>\n",
       "  </tbody>\n",
       "</table>\n",
       "<p>2079 rows × 2 columns</p>\n",
       "</div>"
      ],
      "text/plain": [
       "                                   title genres\n",
       "128      Dorothy and the Scarecrow in Oz    NaN\n",
       "162             The Infant at Snakeville    NaN\n",
       "287                       As You Like It    NaN\n",
       "1312                    A Venetian Night    NaN\n",
       "1315             When the Earth Trembled    NaN\n",
       "...                                  ...    ...\n",
       "9435873                       Music Hole    NaN\n",
       "9442612                Zombie Universe 2    NaN\n",
       "9445745          Little Wound's Warriors    NaN\n",
       "9446502                         Full Gas    NaN\n",
       "9447851            The Cat in Their Arms    NaN\n",
       "\n",
       "[2079 rows x 2 columns]"
      ]
     },
     "execution_count": 32,
     "metadata": {},
     "output_type": "execute_result"
    }
   ],
   "source": [
    "movies.loc[movies.genres.isna(), ['title', 'genres']].drop_duplicates()"
   ]
  },
  {
   "cell_type": "code",
   "execution_count": 33,
   "metadata": {},
   "outputs": [
    {
     "data": {
      "text/plain": [
       "Drama        1988643\n",
       "Comedy       1335463\n",
       "Action       1138079\n",
       "Adventure     729695\n",
       "Thriller      621392\n",
       "Crime         579403\n",
       "Romance       552054\n",
       "Horror        517704\n",
       "Sci-Fi        394383\n",
       "Fantasy       272950\n",
       "Name: genres, dtype: int64"
      ]
     },
     "execution_count": 33,
     "metadata": {},
     "output_type": "execute_result"
    }
   ],
   "source": [
    "movies.genres.value_counts().head(10)"
   ]
  },
  {
   "cell_type": "markdown",
   "metadata": {},
   "source": [
    "There are 2094 movies with missing genres. It represents less than 0.2% of the dataset. There isn't any simple way of giving a genre so we would prefer to remove these values. All the other entries are valid."
   ]
  },
  {
   "cell_type": "markdown",
   "metadata": {},
   "source": [
    "### `ordering`"
   ]
  },
  {
   "cell_type": "code",
   "execution_count": 34,
   "metadata": {},
   "outputs": [
    {
     "data": {
      "text/plain": [
       "0"
      ]
     },
     "execution_count": 34,
     "metadata": {},
     "output_type": "execute_result"
    }
   ],
   "source": [
    "movies.ordering.isna().sum()"
   ]
  },
  {
   "cell_type": "code",
   "execution_count": 35,
   "metadata": {},
   "outputs": [
    {
     "data": {
      "image/png": "[encoded data removed]",
      "text/plain": [
       "<Figure size 432x288 with 1 Axes>"
      ]
     },
     "metadata": {
      "needs_background": "light"
     },
     "output_type": "display_data"
    }
   ],
   "source": [
    "plt.hist(movies.ordering, bins = 30)\n",
    "plt.show()"
   ]
  },
  {
   "cell_type": "markdown",
   "metadata": {},
   "source": [
    "By looking at the distribution not any sample seems to be an outlier. There aren't any missing entries for this attribute."
   ]
  },
  {
   "cell_type": "markdown",
   "metadata": {},
   "source": [
    "### `region`"
   ]
  },
  {
   "cell_type": "code",
   "execution_count": 36,
   "metadata": {},
   "outputs": [
    {
     "data": {
      "text/plain": [
       "US    9465447\n",
       "Name: region, dtype: int64"
      ]
     },
     "execution_count": 36,
     "metadata": {},
     "output_type": "execute_result"
    }
   ],
   "source": [
    "movies.region.value_counts()"
   ]
  },
  {
   "cell_type": "markdown",
   "metadata": {},
   "source": [
    "Only one distinct value and there isn't any missing entries. This entry don't give any information. "
   ]
  },
  {
   "cell_type": "markdown",
   "metadata": {},
   "source": [
    "### `language`"
   ]
  },
  {
   "cell_type": "code",
   "execution_count": 37,
   "metadata": {},
   "outputs": [
    {
     "data": {
      "text/plain": [
       "0.9822024253054293"
      ]
     },
     "execution_count": 37,
     "metadata": {},
     "output_type": "execute_result"
    }
   ],
   "source": [
    "movies.language.isna().sum()/movies.shape[0]"
   ]
  },
  {
   "cell_type": "code",
   "execution_count": 38,
   "metadata": {},
   "outputs": [
    {
     "data": {
      "text/plain": [
       "en     144145\n",
       "es      22618\n",
       "yi       1306\n",
       "haw       285\n",
       "hi        108\n",
       "Name: language, dtype: int64"
      ]
     },
     "execution_count": 38,
     "metadata": {},
     "output_type": "execute_result"
    }
   ],
   "source": [
    "movies.language.value_counts()"
   ]
  },
  {
   "cell_type": "markdown",
   "metadata": {},
   "source": [
    "With more than 98% of missing entries, this attribute can't be used."
   ]
  },
  {
   "cell_type": "markdown",
   "metadata": {},
   "source": [
    "### `types`"
   ]
  },
  {
   "cell_type": "code",
   "execution_count": 39,
   "metadata": {},
   "outputs": [
    {
     "data": {
      "text/plain": [
       "0.15879693795760516"
      ]
     },
     "execution_count": 39,
     "metadata": {},
     "output_type": "execute_result"
    }
   ],
   "source": [
    "movies.types.isna().sum()/movies.shape[0]"
   ]
  },
  {
   "cell_type": "code",
   "execution_count": 40,
   "metadata": {},
   "outputs": [
    {
     "data": {
      "text/plain": [
       "imdbDisplay         6321755\n",
       "working             1194502\n",
       "alternative          258993\n",
       "dvd                   69983\n",
       "video                 64631\n",
       "festival              28349\n",
       "tv                    22728\n",
       "original                447\n",
       "video\u0002working           330\n",
       "tv\u0002working              256\n",
       "tv\u0002video                167\n",
       "festival\u0002working        147\n",
       "dvd\u0002video                75\n",
       "Name: types, dtype: int64"
      ]
     },
     "execution_count": 40,
     "metadata": {},
     "output_type": "execute_result"
    }
   ],
   "source": [
    "movies.types.value_counts()"
   ]
  },
  {
   "cell_type": "markdown",
   "metadata": {},
   "source": [
    "There are around 16% or entries missing for this attribute. There is a strong class imbalance in this attribute so it may be possible to replace by the mode imbdDisplay. As it adds bias to the dataset, it can be unappropriate to replace these values, we assume that the purpose of the further study won't be mainly focused on the types attribute. "
   ]
  },
  {
   "cell_type": "markdown",
   "metadata": {},
   "source": [
    "### `attributes`"
   ]
  },
  {
   "cell_type": "code",
   "execution_count": 41,
   "metadata": {},
   "outputs": [
    {
     "data": {
      "text/plain": [
       "0.8832563322154781"
      ]
     },
     "execution_count": 41,
     "metadata": {},
     "output_type": "execute_result"
    }
   ],
   "source": [
    "movies.attributes.isna().sum()/movies.shape[0]"
   ]
  },
  {
   "cell_type": "markdown",
   "metadata": {},
   "source": [
    "With more than 88% percent of missing values this attribute can't be used for data mining. "
   ]
  },
  {
   "cell_type": "markdown",
   "metadata": {},
   "source": [
    "### `averageRating`"
   ]
  },
  {
   "cell_type": "code",
   "execution_count": 42,
   "metadata": {},
   "outputs": [
    {
     "name": "stdout",
     "output_type": "stream",
     "text": [
      "movies.averageRating.isna().sum()=0\n",
      "movies.averageRating.min()=1.0\n",
      "movies.averageRating.max()=10.0\n"
     ]
    },
    {
     "data": {
      "image/png": "[encoded data removed]",
      "text/plain": [
       "<Figure size 432x288 with 1 Axes>"
      ]
     },
     "metadata": {
      "needs_background": "light"
     },
     "output_type": "display_data"
    }
   ],
   "source": [
    "print(f'{movies.averageRating.isna().sum()=}')\n",
    "\n",
    "print(f'{movies.averageRating.min()=}')\n",
    "print(f'{movies.averageRating.max()=}')\n",
    "\n",
    "plt.hist(movies.averageRating, bins=30)\n",
    "plt.show()"
   ]
  },
  {
   "cell_type": "markdown",
   "metadata": {},
   "source": [
    "Values of the attribute are in the right range [0-10]. With no missing values."
   ]
  },
  {
   "cell_type": "markdown",
   "metadata": {},
   "source": [
    "### `numVotes`"
   ]
  },
  {
   "cell_type": "code",
   "execution_count": 43,
   "metadata": {},
   "outputs": [
    {
     "name": "stdout",
     "output_type": "stream",
     "text": [
      "movies.numVotes.isna().sum()=0\n",
      "movies.numVotes.min()=5\n",
      "movies.numVotes.max()=2455388\n"
     ]
    },
    {
     "data": {
      "image/png": "[encoded data removed]",
      "text/plain": [
       "<Figure size 432x288 with 1 Axes>"
      ]
     },
     "metadata": {
      "needs_background": "light"
     },
     "output_type": "display_data"
    }
   ],
   "source": [
    "print(f'{movies.numVotes.isna().sum()=}')\n",
    "\n",
    "print(f'{movies.numVotes.min()=}')\n",
    "print(f'{movies.numVotes.max()=}')\n",
    "\n",
    "plt.hist(movies.numVotes, bins=30)\n",
    "plt.show()"
   ]
  },
  {
   "cell_type": "code",
   "execution_count": 44,
   "metadata": {},
   "outputs": [
    {
     "data": {
      "text/html": [
       "<div>\n",
       "<style scoped>\n",
       "    .dataframe tbody tr th:only-of-type {\n",
       "        vertical-align: middle;\n",
       "    }\n",
       "\n",
       "    .dataframe tbody tr th {\n",
       "        vertical-align: top;\n",
       "    }\n",
       "\n",
       "    .dataframe thead th {\n",
       "        text-align: right;\n",
       "    }\n",
       "</style>\n",
       "<table border=\"1\" class=\"dataframe\">\n",
       "  <thead>\n",
       "    <tr style=\"text-align: right;\">\n",
       "      <th></th>\n",
       "      <th>numVotes</th>\n",
       "      <th>title</th>\n",
       "    </tr>\n",
       "  </thead>\n",
       "  <tbody>\n",
       "    <tr>\n",
       "      <th>2054373</th>\n",
       "      <td>2455388</td>\n",
       "      <td>The Shawshank Redemption</td>\n",
       "    </tr>\n",
       "    <tr>\n",
       "      <th>2054243</th>\n",
       "      <td>2455388</td>\n",
       "      <td>Rita Hayworth and Shawshank Redemption</td>\n",
       "    </tr>\n",
       "    <tr>\n",
       "      <th>4498835</th>\n",
       "      <td>2411126</td>\n",
       "      <td>The Dark Knight: The IMAX Experience</td>\n",
       "    </tr>\n",
       "    <tr>\n",
       "      <th>4498844</th>\n",
       "      <td>2411126</td>\n",
       "      <td>The Dark Knight</td>\n",
       "    </tr>\n",
       "    <tr>\n",
       "      <th>4498842</th>\n",
       "      <td>2411126</td>\n",
       "      <td>Batman Begins 2</td>\n",
       "    </tr>\n",
       "    <tr>\n",
       "      <th>4498821</th>\n",
       "      <td>2411126</td>\n",
       "      <td>Rory's First Kiss</td>\n",
       "    </tr>\n",
       "    <tr>\n",
       "      <th>4498840</th>\n",
       "      <td>2411126</td>\n",
       "      <td>Winter Green</td>\n",
       "    </tr>\n",
       "    <tr>\n",
       "      <th>4498839</th>\n",
       "      <td>2411126</td>\n",
       "      <td>Untitled Batman Begins Sequel</td>\n",
       "    </tr>\n",
       "    <tr>\n",
       "      <th>4498838</th>\n",
       "      <td>2411126</td>\n",
       "      <td>Batman: The Dark Knight</td>\n",
       "    </tr>\n",
       "    <tr>\n",
       "      <th>5905365</th>\n",
       "      <td>2163044</td>\n",
       "      <td>Inception: The IMAX Experience</td>\n",
       "    </tr>\n",
       "  </tbody>\n",
       "</table>\n",
       "</div>"
      ],
      "text/plain": [
       "         numVotes                                   title\n",
       "2054373   2455388                The Shawshank Redemption\n",
       "2054243   2455388  Rita Hayworth and Shawshank Redemption\n",
       "4498835   2411126    The Dark Knight: The IMAX Experience\n",
       "4498844   2411126                         The Dark Knight\n",
       "4498842   2411126                         Batman Begins 2\n",
       "4498821   2411126                       Rory's First Kiss\n",
       "4498840   2411126                            Winter Green\n",
       "4498839   2411126           Untitled Batman Begins Sequel\n",
       "4498838   2411126                 Batman: The Dark Knight\n",
       "5905365   2163044          Inception: The IMAX Experience"
      ]
     },
     "execution_count": 44,
     "metadata": {},
     "output_type": "execute_result"
    }
   ],
   "source": [
    "movies.sort_values('numVotes', ascending=False)[['numVotes', 'title']].drop_duplicates().head(10)"
   ]
  },
  {
   "cell_type": "markdown",
   "metadata": {},
   "source": [
    "The range of the attribute seems correct (only positive values and the one with the most votes are popular). No missing values."
   ]
  },
  {
   "cell_type": "markdown",
   "metadata": {},
   "source": [
    "# Replacement and column removal"
   ]
  },
  {
   "cell_type": "code",
   "execution_count": 45,
   "metadata": {},
   "outputs": [],
   "source": [
    "out = movies.copy().drop(\n",
    "        ['birthYear', 'deathYear', 'primaryTitle', 'originalTitle', 'isOriginalTitle', 'endYear', 'region', 'language', 'attributes'],\n",
    "        axis=1\n",
    "    )"
   ]
  },
  {
   "cell_type": "code",
   "execution_count": 46,
   "metadata": {},
   "outputs": [],
   "source": [
    "out.loc[out.title == \"The Money (1976)\", 'startYear'] = 1976\n",
    "out.loc[out.title == \"Samhain\", 'startYear'] = 2020\n",
    "out.loc[out.title == \"As Words Breath\", 'startYear'] = 2018\n",
    "out.loc[out.title == \"Reckless\", 'startYear'] = 1984\n",
    "out.loc[out.title == \"Cool as Hell 2\", 'startYear'] = 2019\n",
    "out.loc[out.title == \"Patriot Acts\", 'startYear'] = 2004\n",
    "out.loc[out.title == \"Atlantic City Jackpot\", 'startYear'] = 1976\n",
    "\n",
    "out.loc[out.types.isna(), 'types'] = 'imbdDisplay'\n",
    "\n",
    "out = out.dropna(axis=0, subset= ['startYear'])\n",
    "\n",
    "out.loc[ np.abs(zscore(out.runtimeMinutes, nan_policy='omit')) >10, 'runtimeMinutes'] = np.nan\n",
    "out.loc[out.runtimeMinutes.isna(), 'runtimeMinutes'] = np.nanquantile(out.runtimeMinutes.values, .5)"
   ]
  },
  {
   "cell_type": "code",
   "execution_count": 47,
   "metadata": {},
   "outputs": [],
   "source": [
    "out.reset_index(drop=True, inplace=True)"
   ]
  },
  {
   "cell_type": "code",
   "execution_count": 48,
   "metadata": {},
   "outputs": [
    {
     "data": {
      "text/html": [
       "<div>\n",
       "<style scoped>\n",
       "    .dataframe tbody tr th:only-of-type {\n",
       "        vertical-align: middle;\n",
       "    }\n",
       "\n",
       "    .dataframe tbody tr th {\n",
       "        vertical-align: top;\n",
       "    }\n",
       "\n",
       "    .dataframe thead th {\n",
       "        text-align: right;\n",
       "    }\n",
       "</style>\n",
       "<table border=\"1\" class=\"dataframe\">\n",
       "  <thead>\n",
       "    <tr style=\"text-align: right;\">\n",
       "      <th></th>\n",
       "      <th>tconst</th>\n",
       "      <th>nconst</th>\n",
       "      <th>primaryName</th>\n",
       "      <th>primaryProfession</th>\n",
       "      <th>titleType</th>\n",
       "      <th>isAdult</th>\n",
       "      <th>startYear</th>\n",
       "      <th>runtimeMinutes</th>\n",
       "      <th>genres</th>\n",
       "      <th>ordering</th>\n",
       "      <th>title</th>\n",
       "      <th>types</th>\n",
       "      <th>averageRating</th>\n",
       "      <th>numVotes</th>\n",
       "    </tr>\n",
       "  </thead>\n",
       "  <tbody>\n",
       "    <tr>\n",
       "      <th>0</th>\n",
       "      <td>tt0000574</td>\n",
       "      <td>nm0170118</td>\n",
       "      <td>Bella Cola</td>\n",
       "      <td>actress</td>\n",
       "      <td>movie</td>\n",
       "      <td>0</td>\n",
       "      <td>1906.0</td>\n",
       "      <td>70.0</td>\n",
       "      <td>Action</td>\n",
       "      <td>5</td>\n",
       "      <td>The Story of the Kelly Gang</td>\n",
       "      <td>imdbDisplay</td>\n",
       "      <td>6.1</td>\n",
       "      <td>692</td>\n",
       "    </tr>\n",
       "    <tr>\n",
       "      <th>1</th>\n",
       "      <td>tt0000574</td>\n",
       "      <td>nm0170118</td>\n",
       "      <td>Bella Cola</td>\n",
       "      <td>actress</td>\n",
       "      <td>movie</td>\n",
       "      <td>0</td>\n",
       "      <td>1906.0</td>\n",
       "      <td>70.0</td>\n",
       "      <td>Adventure</td>\n",
       "      <td>5</td>\n",
       "      <td>The Story of the Kelly Gang</td>\n",
       "      <td>imdbDisplay</td>\n",
       "      <td>6.1</td>\n",
       "      <td>692</td>\n",
       "    </tr>\n",
       "    <tr>\n",
       "      <th>2</th>\n",
       "      <td>tt0000574</td>\n",
       "      <td>nm0170118</td>\n",
       "      <td>Bella Cola</td>\n",
       "      <td>actress</td>\n",
       "      <td>movie</td>\n",
       "      <td>0</td>\n",
       "      <td>1906.0</td>\n",
       "      <td>70.0</td>\n",
       "      <td>Biography</td>\n",
       "      <td>5</td>\n",
       "      <td>The Story of the Kelly Gang</td>\n",
       "      <td>imdbDisplay</td>\n",
       "      <td>6.1</td>\n",
       "      <td>692</td>\n",
       "    </tr>\n",
       "    <tr>\n",
       "      <th>3</th>\n",
       "      <td>tt0000574</td>\n",
       "      <td>nm0187697</td>\n",
       "      <td>Sam Crewes</td>\n",
       "      <td>actor</td>\n",
       "      <td>movie</td>\n",
       "      <td>0</td>\n",
       "      <td>1906.0</td>\n",
       "      <td>70.0</td>\n",
       "      <td>Action</td>\n",
       "      <td>5</td>\n",
       "      <td>The Story of the Kelly Gang</td>\n",
       "      <td>imdbDisplay</td>\n",
       "      <td>6.1</td>\n",
       "      <td>692</td>\n",
       "    </tr>\n",
       "    <tr>\n",
       "      <th>4</th>\n",
       "      <td>tt0000574</td>\n",
       "      <td>nm0187697</td>\n",
       "      <td>Sam Crewes</td>\n",
       "      <td>actor</td>\n",
       "      <td>movie</td>\n",
       "      <td>0</td>\n",
       "      <td>1906.0</td>\n",
       "      <td>70.0</td>\n",
       "      <td>Adventure</td>\n",
       "      <td>5</td>\n",
       "      <td>The Story of the Kelly Gang</td>\n",
       "      <td>imdbDisplay</td>\n",
       "      <td>6.1</td>\n",
       "      <td>692</td>\n",
       "    </tr>\n",
       "  </tbody>\n",
       "</table>\n",
       "</div>"
      ],
      "text/plain": [
       "      tconst     nconst primaryName primaryProfession titleType  isAdult  \\\n",
       "0  tt0000574  nm0170118  Bella Cola           actress     movie        0   \n",
       "1  tt0000574  nm0170118  Bella Cola           actress     movie        0   \n",
       "2  tt0000574  nm0170118  Bella Cola           actress     movie        0   \n",
       "3  tt0000574  nm0187697  Sam Crewes             actor     movie        0   \n",
       "4  tt0000574  nm0187697  Sam Crewes             actor     movie        0   \n",
       "\n",
       "   startYear  runtimeMinutes     genres  ordering  \\\n",
       "0     1906.0            70.0     Action         5   \n",
       "1     1906.0            70.0  Adventure         5   \n",
       "2     1906.0            70.0  Biography         5   \n",
       "3     1906.0            70.0     Action         5   \n",
       "4     1906.0            70.0  Adventure         5   \n",
       "\n",
       "                         title        types  averageRating  numVotes  \n",
       "0  The Story of the Kelly Gang  imdbDisplay            6.1       692  \n",
       "1  The Story of the Kelly Gang  imdbDisplay            6.1       692  \n",
       "2  The Story of the Kelly Gang  imdbDisplay            6.1       692  \n",
       "3  The Story of the Kelly Gang  imdbDisplay            6.1       692  \n",
       "4  The Story of the Kelly Gang  imdbDisplay            6.1       692  "
      ]
     },
     "execution_count": 48,
     "metadata": {},
     "output_type": "execute_result"
    }
   ],
   "source": [
    "out.head(5)"
   ]
  },
  {
   "cell_type": "markdown",
   "metadata": {},
   "source": [
    "# Normalization"
   ]
  },
  {
   "cell_type": "code",
   "execution_count": null,
   "metadata": {},
   "outputs": [],
   "source": []
  }
 ],
 "metadata": {
  "interpreter": {
   "hash": "b3ba2566441a7c06988d0923437866b63cedc61552a5af99d1f4fb67d367b25f"
  },
  "kernelspec": {
   "display_name": "Python 3 (ipykernel)",
   "language": "python",
   "name": "python3"
  },
  "language_info": {
   "codemirror_mode": {
    "name": "ipython",
    "version": 3
   },
   "file_extension": ".py",
   "mimetype": "text/x-python",
   "name": "python",
   "nbconvert_exporter": "python",
   "pygments_lexer": "ipython3",
   "version": "3.9.6"
  }
 },
 "nbformat": 4,
 "nbformat_minor": 2
}
